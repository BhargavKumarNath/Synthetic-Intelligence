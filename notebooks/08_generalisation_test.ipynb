{
 "cells": [
  {
   "cell_type": "code",
   "execution_count": 1,
   "id": "db1f4b32",
   "metadata": {},
   "outputs": [],
   "source": [
    "import os\n",
    "import pandas as pd\n",
    "import numpy as np\n",
    "import h2o\n",
    "from sklearn.datasets import make_classification\n",
    "import matplotlib.pyplot as plt\n",
    "import seaborn as sns"
   ]
  },
  {
   "cell_type": "code",
   "execution_count": 2,
   "id": "8432e729",
   "metadata": {},
   "outputs": [
    {
     "name": "stdout",
     "output_type": "stream",
     "text": [
      "Checking whether there is an H2O instance running at http://localhost:54321..... not found.\n",
      "Attempting to start a local H2O server...\n",
      "; OpenJDK 64-Bit Server VM Temurin-17.0.16+8 (build 17.0.16+8, mixed mode, sharing)\n",
      "  Starting server from C:\\Project\\Synthetic Intelligence\\.venv\\Lib\\site-packages\\h2o\\backend\\bin\\h2o.jar\n",
      "  Ice root: C:\\Users\\bharg\\AppData\\Local\\Temp\\tmpy02cuwwt\n",
      "  JVM stdout: C:\\Users\\bharg\\AppData\\Local\\Temp\\tmpy02cuwwt\\h2o_bharg_started_from_python.out\n",
      "  JVM stderr: C:\\Users\\bharg\\AppData\\Local\\Temp\\tmpy02cuwwt\\h2o_bharg_started_from_python.err\n",
      "  Server is running at http://127.0.0.1:54321\n",
      "Connecting to H2O server at http://127.0.0.1:54321 ... successful.\n",
      "Warning: Your H2O cluster version is (5 months and 7 days) old.  There may be a newer version available.\n",
      "Please download and install the latest version from: https://h2o-release.s3.amazonaws.com/h2o/latest_stable.html\n"
     ]
    },
    {
     "data": {
      "text/html": [
       "\n",
       "<style>\n",
       "\n",
       "#h2o-table-1.h2o-container {\n",
       "  overflow-x: auto;\n",
       "}\n",
       "#h2o-table-1 .h2o-table {\n",
       "  /* width: 100%; */\n",
       "  margin-top: 1em;\n",
       "  margin-bottom: 1em;\n",
       "}\n",
       "#h2o-table-1 .h2o-table caption {\n",
       "  white-space: nowrap;\n",
       "  caption-side: top;\n",
       "  text-align: left;\n",
       "  /* margin-left: 1em; */\n",
       "  margin: 0;\n",
       "  font-size: larger;\n",
       "}\n",
       "#h2o-table-1 .h2o-table thead {\n",
       "  white-space: nowrap; \n",
       "  position: sticky;\n",
       "  top: 0;\n",
       "  box-shadow: 0 -1px inset;\n",
       "}\n",
       "#h2o-table-1 .h2o-table tbody {\n",
       "  overflow: auto;\n",
       "}\n",
       "#h2o-table-1 .h2o-table th,\n",
       "#h2o-table-1 .h2o-table td {\n",
       "  text-align: right;\n",
       "  /* border: 1px solid; */\n",
       "}\n",
       "#h2o-table-1 .h2o-table tr:nth-child(even) {\n",
       "  /* background: #F5F5F5 */\n",
       "}\n",
       "\n",
       "</style>      \n",
       "<div id=\"h2o-table-1\" class=\"h2o-container\">\n",
       "  <table class=\"h2o-table\">\n",
       "    <caption></caption>\n",
       "    <thead></thead>\n",
       "    <tbody><tr><td>H2O_cluster_uptime:</td>\n",
       "<td>01 secs</td></tr>\n",
       "<tr><td>H2O_cluster_timezone:</td>\n",
       "<td>Europe/London</td></tr>\n",
       "<tr><td>H2O_data_parsing_timezone:</td>\n",
       "<td>UTC</td></tr>\n",
       "<tr><td>H2O_cluster_version:</td>\n",
       "<td>3.46.0.7</td></tr>\n",
       "<tr><td>H2O_cluster_version_age:</td>\n",
       "<td>5 months and 7 days</td></tr>\n",
       "<tr><td>H2O_cluster_name:</td>\n",
       "<td>H2O_from_python_bharg_rdpnmd</td></tr>\n",
       "<tr><td>H2O_cluster_total_nodes:</td>\n",
       "<td>1</td></tr>\n",
       "<tr><td>H2O_cluster_free_memory:</td>\n",
       "<td>10 Gb</td></tr>\n",
       "<tr><td>H2O_cluster_total_cores:</td>\n",
       "<td>16</td></tr>\n",
       "<tr><td>H2O_cluster_allowed_cores:</td>\n",
       "<td>16</td></tr>\n",
       "<tr><td>H2O_cluster_status:</td>\n",
       "<td>locked, healthy</td></tr>\n",
       "<tr><td>H2O_connection_url:</td>\n",
       "<td>http://127.0.0.1:54321</td></tr>\n",
       "<tr><td>H2O_connection_proxy:</td>\n",
       "<td>{\"http\": null, \"https\": null}</td></tr>\n",
       "<tr><td>H2O_internal_security:</td>\n",
       "<td>False</td></tr>\n",
       "<tr><td>Python_version:</td>\n",
       "<td>3.13.7 final</td></tr></tbody>\n",
       "  </table>\n",
       "</div>\n"
      ],
      "text/plain": [
       "--------------------------  -----------------------------\n",
       "H2O_cluster_uptime:         01 secs\n",
       "H2O_cluster_timezone:       Europe/London\n",
       "H2O_data_parsing_timezone:  UTC\n",
       "H2O_cluster_version:        3.46.0.7\n",
       "H2O_cluster_version_age:    5 months and 7 days\n",
       "H2O_cluster_name:           H2O_from_python_bharg_rdpnmd\n",
       "H2O_cluster_total_nodes:    1\n",
       "H2O_cluster_free_memory:    10 Gb\n",
       "H2O_cluster_total_cores:    16\n",
       "H2O_cluster_allowed_cores:  16\n",
       "H2O_cluster_status:         locked, healthy\n",
       "H2O_connection_url:         http://127.0.0.1:54321\n",
       "H2O_connection_proxy:       {\"http\": null, \"https\": null}\n",
       "H2O_internal_security:      False\n",
       "Python_version:             3.13.7 final\n",
       "--------------------------  -----------------------------"
      ]
     },
     "metadata": {},
     "output_type": "display_data"
    }
   ],
   "source": [
    "RANDOM_STATE = 42\n",
    "NEW_WORLD_RANDOM_STATE = 88\n",
    "N_SAMPLES_HOLDOUT = 20000\n",
    "\n",
    "MODELS_DIR = '../models/'\n",
    "HOLDOUT_DATA_DIR = '../data/03_holdout/'\n",
    "HOLDOUT_DATA_PATH = os.path.join(HOLDOUT_DATA_DIR, 'new_world_holdout.csv')\n",
    "\n",
    "os.makedirs(HOLDOUT_DATA_DIR, exist_ok=True)\n",
    "h2o.init(nthreads=-1, max_mem_size=\"10g\")"
   ]
  },
  {
   "cell_type": "markdown",
   "id": "d72e94d1",
   "metadata": {},
   "source": [
    "# Generate \"New World\" Holdout Dataset"
   ]
  },
  {
   "cell_type": "code",
   "execution_count": 3,
   "id": "73c05c95",
   "metadata": {},
   "outputs": [
    {
     "name": "stdout",
     "output_type": "stream",
     "text": [
      "Generating 'New World' holdout dataset with 20000 samples...\n",
      "New World dataset class distribution:\n",
      "target\n",
      "0    0.8962\n",
      "1    0.1038\n",
      "Name: proportion, dtype: float64\n",
      "Saved new holdout dataset to ../data/03_holdout/new_world_holdout.csv\n",
      "Parse progress: |████████████████████████████████████████████████████████████████| (done) 100%\n"
     ]
    }
   ],
   "source": [
    "def create_new_world_dataset():\n",
    "    \"\"\"Generates a completely new, unseen, imbalanced dataset to test generalisation.\"\"\"\n",
    "    print(f\"Generating 'New World' holdout dataset with {N_SAMPLES_HOLDOUT} samples...\")\n",
    "\n",
    "    X_num, y = make_classification(\n",
    "        n_samples=N_SAMPLES_HOLDOUT,\n",
    "        n_features=30,\n",
    "        n_informative=15,\n",
    "        n_redundant=5,\n",
    "        n_classes=2,\n",
    "        class_sep=0.75,\n",
    "        flip_y=0.06,\n",
    "        weights=[0.92, 0.08],\n",
    "        random_state=NEW_WORLD_RANDOM_STATE\n",
    "    )\n",
    "    df_numerical = pd.DataFrame(X_num, columns=[f'num_{i}' for i in range(X_num.shape[1])])\n",
    "\n",
    "    df_categorical = pd.DataFrame()\n",
    "    for i in range(10):\n",
    "        num_categories = np.random.randint(3, 15)\n",
    "        categories = [f'cat_{i}_val_{j}' for j in range(num_categories)]\n",
    "        cat_data = np.random.choice(categories, size=N_SAMPLES_HOLDOUT)\n",
    "        df_categorical[f'cat_{i}'] = pd.Series(cat_data, dtype='category')\n",
    "    \n",
    "    df_holdout = pd.concat([df_numerical, df_categorical, pd.Series(y, name='target')], axis=1)\n",
    "\n",
    "    print(\"New World dataset class distribution:\")\n",
    "    print(df_holdout['target'].value_counts(normalize=True))\n",
    "\n",
    "    df_holdout.to_csv(HOLDOUT_DATA_PATH, index=False)\n",
    "    print(f\"Saved new holdout dataset to {HOLDOUT_DATA_PATH}\")\n",
    "\n",
    "    return df_holdout\n",
    "\n",
    "df_holdout = create_new_world_dataset()\n",
    "hf_holdout = h2o.H2OFrame(df_holdout)\n",
    "hf_holdout['target'] = hf_holdout['target'].asfactor()"
   ]
  },
  {
   "cell_type": "code",
   "execution_count": null,
   "id": "d150dfbb",
   "metadata": {},
   "outputs": [
    {
     "name": "stdout",
     "output_type": "stream",
     "text": [
      "Loading saved model: imbalanced_leader...\n",
      "Loading saved model: smote_leader...\n",
      "Loading saved model: model_driven_leader...\n"
     ]
    }
   ],
   "source": [
    "# Load trained models\n",
    "\n",
    "def get_trained_model(model_name):\n",
    "    \"\"\"Loads a saved H2O model.\"\"\"\n",
    "    model_path = os.path.join(MODELS_DIR, f\"{model_name}.model\")\n",
    "    if os.path.exists(model_path):\n",
    "        print(f\"Loading saved model: {model_name}...\")\n",
    "        return h2o.load_model(model_path)\n",
    "    else:\n",
    "        raise FileNotFoundError(f\"Model file not found at {model_path}. Please run previous notebooks to train and save the models.\")\n",
    "\n",
    "model_imbalanced = get_trained_model(\"imbalanced_leader\")\n",
    "model_smote = get_trained_model(\"smote_leader\")\n",
    "model_model_driven = get_trained_model(\"model_driven_leader\")\n",
    "\n",
    "try:\n",
    "    smote_predictors = model_smote.varimp(use_pandas=True)['variable'].tolist()\n",
    "except:\n",
    "    smote_predictors = model_smote._model_json['output']['names'][:-1]"
   ]
  },
  {
   "cell_type": "markdown",
   "id": "7c16112e",
   "metadata": {},
   "source": [
    "# Evaluate Generalisation Performance"
   ]
  },
  {
   "cell_type": "code",
   "execution_count": null,
   "id": "056f9809",
   "metadata": {},
   "outputs": [],
   "source": [
    "def evaluate_model(model, test_hf, model_name, one_hot_predictors=None, response=\"target\"):\n",
    "    \"\"\"Helper function to evaluate a model on the new holdout set.\"\"\"\n",
    "    if one_hot_predictors:\n",
    "        test_df = test_hf.as_data_frame()\n",
    "        test_df_encoded = pd.get_dummies(test_df)\n",
    "\n",
    "        test_df_encoded = test_df_encoded.reindex(columns=one_hot_predictors + [response], fill_value=0)\n",
    "\n",
    "        test_hf_eval = h2o.H2OFrame(test_df_encoded)\n",
    "\n",
    "        for col in one_hot_predictors:\n",
    "            if col.startswith('cat_'):\n",
    "                test_hf_eval[col] = test_hf_eval[col].asfactor()\n",
    "\n",
    "        test_hf_eval[response] = test_hf_eval[response].asfactor()\n",
    "    else:\n",
    "        test_hf_eval = test_hf\n",
    "        test_hf_eval[response] = test_hf_eval[response].asfactor()\n",
    "    \n",
    "    perf = model.model_performance(test_hf_eval)\n",
    "    return {\n",
    "        \"Model\": model_name,\n",
    "        \"AUPRC\": perf.aucpr(),\n",
    "        \"F1\": perf.F1()[0][1],\n",
    "        \"AUC\": perf.auc(),\n",
    "        \"Precision\": perf.precision()[0][1],\n",
    "        \"Recall\": perf.recall()[0][1]\n",
    "    }"
   ]
  },
  {
   "cell_type": "code",
   "execution_count": null,
   "id": "acc0e171",
   "metadata": {},
   "outputs": [
    {
     "name": "stderr",
     "output_type": "stream",
     "text": [
      "c:\\Project\\Synthetic Intelligence\\.venv\\Lib\\site-packages\\h2o\\frame.py:1983: H2ODependencyWarning: Converting H2O frame to pandas dataframe using single-thread.  For faster conversion using multi-thread, install polars and pyarrow and use it as pandas_df = h2o_df.as_data_frame(use_multi_thread=True)\n",
      "\n",
      "  warnings.warn(\"Converting H2O frame to pandas dataframe using single-thread.  For faster conversion using\"\n"
     ]
    },
    {
     "name": "stdout",
     "output_type": "stream",
     "text": [
      "Parse progress: |████████████████████████████████████████████████████████████████| (done) 100%\n",
      "--- Generalization Test Results on 'New World' Dataset ---\n",
      "                 AUPRC        F1       AUC  Precision  Recall\n",
      "Model                                                        \n",
      "Imbalanced    0.097890  0.188078  0.474080   0.333333     1.0\n",
      "SMOTE         0.099745  0.188078  0.491889   0.104337     1.0\n",
      "Model-Driven  0.103295  0.189180  0.513198   0.176471     1.0\n"
     ]
    }
   ],
   "source": [
    "# Evaluate all models on the \"New World\" holdout dataset\n",
    "results = []\n",
    "\n",
    "results.append(evaluate_model(model_imbalanced, hf_holdout, \"Imbalanced\"))\n",
    "\n",
    "results.append(evaluate_model(model_smote, hf_holdout, \"SMOTE\", one_hot_predictors=smote_predictors))\n",
    "\n",
    "# Evaluate the model trained with model-driven sampling\n",
    "results.append(evaluate_model(model_model_driven, hf_holdout, \"Model-Driven\"))\n",
    "\n",
    "df_final = pd.DataFrame(results)\n",
    "df_final.set_index('Model', inplace=True)\n",
    "\n",
    "print(\"--- Generalization Test Results on 'New World' Dataset ---\")\n",
    "print(df_final)"
   ]
  },
  {
   "cell_type": "code",
   "execution_count": null,
   "id": "683796f2",
   "metadata": {},
   "outputs": [
    {
     "data": {
      "image/png": "[encoded data removed]",
      "text/plain": [
       "<Figure size 1200x700 with 1 Axes>"
      ]
     },
     "metadata": {},
     "output_type": "display_data"
    }
   ],
   "source": [
    "import matplotlib.pyplot as plt\n",
    "import numpy as np\n",
    "\n",
    "metrics_to_plot = ['AUPRC', 'F1']\n",
    "ax = df_final[metrics_to_plot].plot(\n",
    "    kind='bar',\n",
    "    figsize=(12, 7),\n",
    "    grid=True,\n",
    "    title='Final Generalization Test on \"New World\" Dataset',\n",
    "    ylabel='Score',\n",
    "    color=['#1f77b4', '#ff7f0e']  \n",
    ")\n",
    "\n",
    "plt.xticks(rotation=0)\n",
    "\n",
    "for p in ax.patches:\n",
    "    ax.annotate(\n",
    "        f'{p.get_height():.3f}', \n",
    "        (p.get_x() + p.get_width() / 2., p.get_height()), \n",
    "        ha='center', va='bottom', fontsize=10\n",
    "    )\n",
    "\n",
    "plt.tight_layout()\n",
    "plt.show()"
   ]
  },
  {
   "cell_type": "code",
   "execution_count": null,
   "id": "1890cb42",
   "metadata": {},
   "outputs": [],
   "source": []
  }
 ],
 "metadata": {
  "kernelspec": {
   "display_name": ".venv",
   "language": "python",
   "name": "python3"
  },
  "language_info": {
   "codemirror_mode": {
    "name": "ipython",
    "version": 3
   },
   "file_extension": ".py",
   "mimetype": "text/x-python",
   "name": "python",
   "nbconvert_exporter": "python",
   "pygments_lexer": "ipython3",
   "version": "3.13.7"
  }
 },
 "nbformat": 4,
 "nbformat_minor": 5
}
