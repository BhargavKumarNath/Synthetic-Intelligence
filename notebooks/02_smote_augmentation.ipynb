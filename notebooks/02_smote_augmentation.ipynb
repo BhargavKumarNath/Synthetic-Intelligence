{
 "cells": [
  {
   "cell_type": "code",
   "execution_count": 1,
   "id": "11ddc64e",
   "metadata": {},
   "outputs": [],
   "source": [
    "import os\n",
    "import time\n",
    "import pandas as pd\n",
    "import matplotlib.pyplot as plt\n",
    "import h2o\n",
    "from h2o.automl import H2OAutoML\n",
    "from imblearn.over_sampling import SMOTE\n",
    "from sklearn.model_selection import train_test_split"
   ]
  },
  {
   "cell_type": "code",
   "execution_count": 2,
   "id": "e899ec8f",
   "metadata": {},
   "outputs": [],
   "source": [
    "RANDOM_STATE = 42\n",
    "TRAIN_TIME_SECS = 600\n",
    "MAX_MODELS = 20\n",
    "N_THREADS = -1\n",
    "\n",
    "IMBALANCED_DATA_PATH = '../data/01_raw/original_imbalanced.csv'\n",
    "PROCESSED_DATA_DIR = '../data/02_processed/'\n",
    "SMOTE_DATA_PATH = os.path.join(PROCESSED_DATA_DIR, 'smote_augmented_train.csv')\n",
    "\n",
    "os.makedirs(PROCESSED_DATA_DIR, exist_ok=True)"
   ]
  },
  {
   "cell_type": "code",
   "execution_count": 4,
   "id": "572a6269",
   "metadata": {},
   "outputs": [],
   "source": [
    "def initialize_h2o():\n",
    "    \"\"\"Robust initialisation of H2O cluster\"\"\"\n",
    "    h2o.init(nthreads=N_THREADS, max_mem_size=\"10g\")\n",
    "\n",
    "def run_automl_on_h20_frames(train_hf, valid_hf, test_hf, predictors, response, dataset_name):\n",
    "    aml = H2OAutoML(\n",
    "        max_runtime_secs=TRAIN_TIME_SECS,\n",
    "        max_models=MAX_MODELS,\n",
    "        seed=RANDOM_STATE,\n",
    "        project_name=f\"{dataset_name}_{int(time.time())}\",\n",
    "        nfolds=0,\n",
    "        sort_metric=\"AUCPR\"\n",
    "    )\n",
    "    aml.train(x=predictors, y=response, training_frame=train_hf, validation_frame=valid_hf)\n",
    "\n",
    "    pref = aml.leader.model_performance(test_hf)\n",
    "\n",
    "    perf = aml.leader.model_performance(test_hf)\n",
    "    metrics = {\n",
    "        \"auc\": perf.auc(), \"auprc\": perf.aucpr(), \"f1\": perf.F1()[0][1],\n",
    "        \"recall\": perf.recall()[0][1], \"precision\": perf.precision()[0][1],\n",
    "        \"accuracy\": perf.accuracy()[0][1]\n",
    "    }\n",
    "    return aml, metrics"
   ]
  },
  {
   "cell_type": "code",
   "execution_count": 5,
   "id": "43126213",
   "metadata": {},
   "outputs": [
    {
     "name": "stdout",
     "output_type": "stream",
     "text": [
      "Loading imbalanced dataset...\n"
     ]
    }
   ],
   "source": [
    "# Load model\n",
    "print(\"Loading imbalanced dataset...\")\n",
    "df_imbalanced = pd.read_csv(IMBALANCED_DATA_PATH)\n",
    "response = \"target\"\n",
    "\n",
    "X = df_imbalanced.drop(response, axis=1)\n",
    "y = df_imbalanced[response]"
   ]
  },
  {
   "cell_type": "markdown",
   "id": "24399b44",
   "metadata": {},
   "source": [
    "# Pre SMOTE data splitting"
   ]
  },
  {
   "cell_type": "code",
   "execution_count": null,
   "id": "a658285e",
   "metadata": {},
   "outputs": [
    {
     "name": "stdout",
     "output_type": "stream",
     "text": [
      "Original training set distribution\n",
      "target\n",
      "0    0.920003\n",
      "1    0.079997\n",
      "Name: proportion, dtype: float64\n"
     ]
    }
   ],
   "source": [
    "X_train, X_test, y_train, y_test = train_test_split(X, y, test_size=0.2, random_state=RANDOM_STATE, stratify=y)\n",
    "\n",
    "X_train, X_val, y_train, y_val = train_test_split(X_train, y_train, test_size=0.2, random_state=RANDOM_STATE, stratify=y_train)\n",
    "\n",
    "print(\"Original training set distribution\")\n",
    "print(y_train.value_counts(normalize=True))"
   ]
  },
  {
   "cell_type": "markdown",
   "id": "16fb91ad",
   "metadata": {},
   "source": [
    "# Apply SMOTE to the training set"
   ]
  },
  {
   "cell_type": "code",
   "execution_count": 7,
   "id": "6cad5ddf",
   "metadata": {},
   "outputs": [
    {
     "name": "stdout",
     "output_type": "stream",
     "text": [
      "\n",
      "Applying SMOTE...\n",
      "\n",
      "SMOTE augmented training set distribution:\n",
      "target\n",
      "0    0.5\n",
      "1    0.5\n",
      "Name: proportion, dtype: float64\n"
     ]
    }
   ],
   "source": [
    "print(\"\\nApplying SMOTE...\")\n",
    "X_train_numeric = pd.get_dummies(X_train)\n",
    "smote = SMOTE(random_state=RANDOM_STATE, k_neighbors=5)\n",
    "\n",
    "X_train_smote, y_train_smote = smote.fit_resample(X_train_numeric, y_train)\n",
    "\n",
    "print(\"\\nSMOTE augmented training set distribution:\")\n",
    "print(y_train_smote.value_counts(normalize=True))"
   ]
  },
  {
   "cell_type": "markdown",
   "id": "ef221ccc",
   "metadata": {},
   "source": [
    "# Prepare Dataframe for H2O"
   ]
  },
  {
   "cell_type": "code",
   "execution_count": 8,
   "id": "2cd42d52",
   "metadata": {},
   "outputs": [],
   "source": [
    "df_train_smote = pd.concat([pd.DataFrame(X_train_smote), pd.DataFrame(y_train_smote)], axis=1)\n",
    "\n",
    "df_val = pd.concat([X_val, y_val], axis=1)\n",
    "df_test = pd.concat([X_test, y_test], axis=1)\n",
    "\n",
    "df_val_encoded = pd.get_dummies(df_val).reindex(columns=df_train_smote.columns, fill_value=0)\n",
    "df_test_encoded = pd.get_dummies(df_test).reindex(columns=df_train_smote.columns, fill_value=0)"
   ]
  },
  {
   "cell_type": "markdown",
   "id": "a2cb099c",
   "metadata": {},
   "source": [
    "# Train and Evaluate Model"
   ]
  },
  {
   "cell_type": "code",
   "execution_count": 9,
   "id": "288faaf1",
   "metadata": {},
   "outputs": [
    {
     "name": "stdout",
     "output_type": "stream",
     "text": [
      "Checking whether there is an H2O instance running at http://localhost:54321..... not found.\n",
      "Attempting to start a local H2O server...\n",
      "; OpenJDK 64-Bit Server VM Temurin-17.0.16+8 (build 17.0.16+8, mixed mode, sharing)\n",
      "  Starting server from C:\\Project\\Synthetic Intelligence\\.venv\\Lib\\site-packages\\h2o\\backend\\bin\\h2o.jar\n",
      "  Ice root: C:\\Users\\bharg\\AppData\\Local\\Temp\\tmpzprj4ft3\n",
      "  JVM stdout: C:\\Users\\bharg\\AppData\\Local\\Temp\\tmpzprj4ft3\\h2o_bharg_started_from_python.out\n",
      "  JVM stderr: C:\\Users\\bharg\\AppData\\Local\\Temp\\tmpzprj4ft3\\h2o_bharg_started_from_python.err\n",
      "  Server is running at http://127.0.0.1:54321\n",
      "Connecting to H2O server at http://127.0.0.1:54321 ... successful.\n",
      "Warning: Your H2O cluster version is (5 months and 5 days) old.  There may be a newer version available.\n",
      "Please download and install the latest version from: https://h2o-release.s3.amazonaws.com/h2o/latest_stable.html\n"
     ]
    },
    {
     "data": {
      "text/html": [
       "\n",
       "<style>\n",
       "\n",
       "#h2o-table-1.h2o-container {\n",
       "  overflow-x: auto;\n",
       "}\n",
       "#h2o-table-1 .h2o-table {\n",
       "  /* width: 100%; */\n",
       "  margin-top: 1em;\n",
       "  margin-bottom: 1em;\n",
       "}\n",
       "#h2o-table-1 .h2o-table caption {\n",
       "  white-space: nowrap;\n",
       "  caption-side: top;\n",
       "  text-align: left;\n",
       "  /* margin-left: 1em; */\n",
       "  margin: 0;\n",
       "  font-size: larger;\n",
       "}\n",
       "#h2o-table-1 .h2o-table thead {\n",
       "  white-space: nowrap; \n",
       "  position: sticky;\n",
       "  top: 0;\n",
       "  box-shadow: 0 -1px inset;\n",
       "}\n",
       "#h2o-table-1 .h2o-table tbody {\n",
       "  overflow: auto;\n",
       "}\n",
       "#h2o-table-1 .h2o-table th,\n",
       "#h2o-table-1 .h2o-table td {\n",
       "  text-align: right;\n",
       "  /* border: 1px solid; */\n",
       "}\n",
       "#h2o-table-1 .h2o-table tr:nth-child(even) {\n",
       "  /* background: #F5F5F5 */\n",
       "}\n",
       "\n",
       "</style>      \n",
       "<div id=\"h2o-table-1\" class=\"h2o-container\">\n",
       "  <table class=\"h2o-table\">\n",
       "    <caption></caption>\n",
       "    <thead></thead>\n",
       "    <tbody><tr><td>H2O_cluster_uptime:</td>\n",
       "<td>01 secs</td></tr>\n",
       "<tr><td>H2O_cluster_timezone:</td>\n",
       "<td>Europe/London</td></tr>\n",
       "<tr><td>H2O_data_parsing_timezone:</td>\n",
       "<td>UTC</td></tr>\n",
       "<tr><td>H2O_cluster_version:</td>\n",
       "<td>3.46.0.7</td></tr>\n",
       "<tr><td>H2O_cluster_version_age:</td>\n",
       "<td>5 months and 5 days</td></tr>\n",
       "<tr><td>H2O_cluster_name:</td>\n",
       "<td>H2O_from_python_bharg_grbbsh</td></tr>\n",
       "<tr><td>H2O_cluster_total_nodes:</td>\n",
       "<td>1</td></tr>\n",
       "<tr><td>H2O_cluster_free_memory:</td>\n",
       "<td>10 Gb</td></tr>\n",
       "<tr><td>H2O_cluster_total_cores:</td>\n",
       "<td>16</td></tr>\n",
       "<tr><td>H2O_cluster_allowed_cores:</td>\n",
       "<td>16</td></tr>\n",
       "<tr><td>H2O_cluster_status:</td>\n",
       "<td>locked, healthy</td></tr>\n",
       "<tr><td>H2O_connection_url:</td>\n",
       "<td>http://127.0.0.1:54321</td></tr>\n",
       "<tr><td>H2O_connection_proxy:</td>\n",
       "<td>{\"http\": null, \"https\": null}</td></tr>\n",
       "<tr><td>H2O_internal_security:</td>\n",
       "<td>False</td></tr>\n",
       "<tr><td>Python_version:</td>\n",
       "<td>3.13.7 final</td></tr></tbody>\n",
       "  </table>\n",
       "</div>\n"
      ],
      "text/plain": [
       "--------------------------  -----------------------------\n",
       "H2O_cluster_uptime:         01 secs\n",
       "H2O_cluster_timezone:       Europe/London\n",
       "H2O_data_parsing_timezone:  UTC\n",
       "H2O_cluster_version:        3.46.0.7\n",
       "H2O_cluster_version_age:    5 months and 5 days\n",
       "H2O_cluster_name:           H2O_from_python_bharg_grbbsh\n",
       "H2O_cluster_total_nodes:    1\n",
       "H2O_cluster_free_memory:    10 Gb\n",
       "H2O_cluster_total_cores:    16\n",
       "H2O_cluster_allowed_cores:  16\n",
       "H2O_cluster_status:         locked, healthy\n",
       "H2O_connection_url:         http://127.0.0.1:54321\n",
       "H2O_connection_proxy:       {\"http\": null, \"https\": null}\n",
       "H2O_internal_security:      False\n",
       "Python_version:             3.13.7 final\n",
       "--------------------------  -----------------------------"
      ]
     },
     "metadata": {},
     "output_type": "display_data"
    },
    {
     "name": "stdout",
     "output_type": "stream",
     "text": [
      "Parse progress: |████████████████████████████████████████████████████████████████| (done) 100%\n",
      "Parse progress: |████████████████████████████████████████████████████████████████| (done) 100%\n",
      "Parse progress: |████████████████████████████████████████████████████████████████| (done) 100%\n",
      "\n",
      "Training AutoML on Smote Aug data...\n",
      "AutoML progress: |\n",
      "01:36:04.400: AutoML: XGBoost is not available; skipping it.\n",
      "\n",
      "███████████████████████████████████████████████████████████████| (done) 100%\n"
     ]
    }
   ],
   "source": [
    "initialize_h2o()\n",
    "\n",
    "train_hf = h2o.H2OFrame(df_train_smote)\n",
    "valid_hf = h2o.H2OFrame(df_val_encoded)\n",
    "test_hf = h2o.H2OFrame(df_test_encoded)\n",
    "\n",
    "# Define predictors and response\n",
    "predictors = train_hf.columns\n",
    "predictors.remove(response)\n",
    "train_hf[response] = train_hf[response].asfactor()\n",
    "valid_hf[response] = valid_hf[response].asfactor()\n",
    "test_hf[response] = test_hf[response].asfactor()\n",
    "\n",
    "# Run AutoML\n",
    "print(\"\\nTraining AutoML on Smote Aug data...\")\n",
    "aml_smote, metrics_smote = run_automl_on_h20_frames(train_hf, valid_hf, test_hf, predictors, response, \"smote_augmented\")"
   ]
  },
  {
   "cell_type": "code",
   "execution_count": 10,
   "id": "722d52ff",
   "metadata": {},
   "outputs": [
    {
     "name": "stdout",
     "output_type": "stream",
     "text": [
      "\n",
      " SMOTE Model Performance on Original Test Set\n",
      "          auc   auprc     f1  recall  precision  accuracy\n",
      "SMOTE  0.9706  0.7344  0.803     1.0        1.0    0.9657\n",
      "\n",
      "Saved SMOTE-augmented training data to ../data/02_processed/smote_augmented_train.csv\n",
      "H2O session _sid_b208 closed.\n"
     ]
    }
   ],
   "source": [
    "# Display results\n",
    "print(\"\\n SMOTE Model Performance on Original Test Set\")\n",
    "df_metrics_smote = pd.DataFrame([metrics_smote], index=['SMOTE']).round(4)\n",
    "print(df_metrics_smote)\n",
    "\n",
    "df_train_smote.to_csv(SMOTE_DATA_PATH, index=False)\n",
    "print(f\"\\nSaved SMOTE-augmented training data to {SMOTE_DATA_PATH}\")\n",
    "\n",
    "h2o.cluster().shutdown()"
   ]
  },
  {
   "cell_type": "code",
   "execution_count": null,
   "id": "aca68164",
   "metadata": {},
   "outputs": [],
   "source": []
  }
 ],
 "metadata": {
  "kernelspec": {
   "display_name": ".venv",
   "language": "python",
   "name": "python3"
  },
  "language_info": {
   "codemirror_mode": {
    "name": "ipython",
    "version": 3
   },
   "file_extension": ".py",
   "mimetype": "text/x-python",
   "name": "python",
   "nbconvert_exporter": "python",
   "pygments_lexer": "ipython3",
   "version": "3.13.7"
  }
 },
 "nbformat": 4,
 "nbformat_minor": 5
}
