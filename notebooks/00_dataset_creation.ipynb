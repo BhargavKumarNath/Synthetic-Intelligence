{
 "cells": [
  {
   "cell_type": "code",
   "execution_count": 1,
   "id": "65e5a2fd",
   "metadata": {},
   "outputs": [],
   "source": [
    "import pandas as pd\n",
    "import numpy as np\n",
    "from sklearn.datasets import make_classification\n",
    "import os"
   ]
  },
  {
   "cell_type": "code",
   "execution_count": 2,
   "id": "35865171",
   "metadata": {},
   "outputs": [],
   "source": [
    "# Config\n",
    "N_SAMPLES = 128000\n",
    "N_FEATURES = 40\n",
    "N_INFORMATIVE = 15\n",
    "N_REDUDANT = 5\n",
    "N_CATEGORICAL = 10\n",
    "CLASS_SEP = 0.8\n",
    "FLIP_Y = 0.05\n",
    "IMBALANCE_RATIO = 0.08\n",
    "\n",
    "RANDOM_STATE = 42"
   ]
  },
  {
   "cell_type": "code",
   "execution_count": 3,
   "id": "48ea63e2",
   "metadata": {},
   "outputs": [],
   "source": [
    "RAW_DATA_DIR = '../data/01_raw/'\n",
    "BALANCED_DATA_PATH = os.path.join(RAW_DATA_DIR, 'original_balanced.csv')\n",
    "IMBALANCED_DATA_PATH = os.path.join(RAW_DATA_DIR, 'original_imbalanced.csv')\n",
    "\n",
    "os.makedirs(RAW_DATA_DIR, exist_ok=True)"
   ]
  },
  {
   "cell_type": "markdown",
   "id": "1f03ecdb",
   "metadata": {},
   "source": [
    "# Generate the Core Numerical Dataset"
   ]
  },
  {
   "cell_type": "code",
   "execution_count": 4,
   "id": "45c485dd",
   "metadata": {},
   "outputs": [
    {
     "name": "stdout",
     "output_type": "stream",
     "text": [
      "Generating core numerical features...\n"
     ]
    }
   ],
   "source": [
    "print(\"Generating core numerical features...\")\n",
    "X, y = make_classification(\n",
    "    n_samples=N_SAMPLES,\n",
    "    n_features=N_FEATURES - N_CATEGORICAL,\n",
    "    n_informative=N_INFORMATIVE,\n",
    "    n_redundant=N_REDUDANT,\n",
    "    n_classes=2,\n",
    "    class_sep=CLASS_SEP,\n",
    "    flip_y=FLIP_Y,\n",
    "    weights=[0.5, 0.5],\n",
    "    random_state=RANDOM_STATE\n",
    ")\n",
    "\n",
    "df_numerical = pd.DataFrame(X, columns=[f'num_{i}' for i in range(X.shape[1])])\n",
    "df_target = pd.DataFrame(y, columns=['target'])"
   ]
  },
  {
   "cell_type": "markdown",
   "id": "5ce14424",
   "metadata": {},
   "source": [
    "# Generate Categorical Features"
   ]
  },
  {
   "cell_type": "code",
   "execution_count": 5,
   "id": "32c69a61",
   "metadata": {},
   "outputs": [
    {
     "name": "stdout",
     "output_type": "stream",
     "text": [
      "Generating categorical features...\n"
     ]
    }
   ],
   "source": [
    "print(\"Generating categorical features...\")\n",
    "df_categorical = pd.DataFrame()\n",
    "for i in range(N_CATEGORICAL):\n",
    "    num_categories = np.random.randint(3, 15)\n",
    "    categories = [f'cat_{i}_val_{j}' for j in range(num_categories)]\n",
    "\n",
    "    # Generate random categorical data\n",
    "    cat_data = np.random.choice(categories, size=N_SAMPLES)\n",
    "    df_categorical[f'cat_{i}'] = pd.Series(cat_data, dtype='category')"
   ]
  },
  {
   "cell_type": "markdown",
   "id": "f7926606",
   "metadata": {},
   "source": [
    "# Combine into the final balanced dataset"
   ]
  },
  {
   "cell_type": "code",
   "execution_count": 6,
   "id": "cf9cb5c1",
   "metadata": {},
   "outputs": [
    {
     "name": "stdout",
     "output_type": "stream",
     "text": [
      "Generated balanced dataset with shape: (128000, 41)\n",
      "Balanced class distribution:\n",
      "target\n",
      "1    0.500078\n",
      "0    0.499922\n",
      "Name: proportion, dtype: float64\n",
      "Saved balanced dataset to ../data/01_raw/original_balanced.csv\n"
     ]
    }
   ],
   "source": [
    "df_balanced = pd.concat([df_numerical, df_categorical, df_target], axis=1)\n",
    "print(f\"Generated balanced dataset with shape: {df_balanced.shape}\")\n",
    "print(\"Balanced class distribution:\")\n",
    "print(df_balanced['target'].value_counts(normalize=True))\n",
    "\n",
    "# Save the dataset\n",
    "df_balanced.to_csv(BALANCED_DATA_PATH, index=False)\n",
    "print(f\"Saved balanced dataset to {BALANCED_DATA_PATH}\")"
   ]
  },
  {
   "cell_type": "markdown",
   "id": "b62f17e8",
   "metadata": {},
   "source": [
    "# Create the Imbalanced version"
   ]
  },
  {
   "cell_type": "code",
   "execution_count": 7,
   "id": "16019212",
   "metadata": {},
   "outputs": [
    {
     "name": "stdout",
     "output_type": "stream",
     "text": [
      "\n",
      "Creating imbalanced dataset...\n",
      "Generated imbalanced dataset with shape: (69554, 41)\n",
      "Imbalanced class distribution:\n",
      "target\n",
      "0    0.920005\n",
      "1    0.079995\n",
      "Name: proportion, dtype: float64\n",
      "Saved imbalanced dataset to ../data/01_raw/original_imbalanced.csv\n"
     ]
    }
   ],
   "source": [
    "print(\"\\nCreating imbalanced dataset...\")\n",
    "df_majority = df_balanced[df_balanced['target'] == 0]\n",
    "df_minority = df_balanced[df_balanced['target'] == 1]\n",
    "\n",
    "# Undersample the minority class\n",
    "n_minority_new = int(len(df_majority) * IMBALANCE_RATIO / (1 - IMBALANCE_RATIO))\n",
    "df_minority_sampled = df_minority.sample(n=n_minority_new, random_state=RANDOM_STATE)\n",
    "\n",
    "df_imbalanced = pd.concat([df_majority, df_minority_sampled]).sample(frac=1, random_state=RANDOM_STATE)\n",
    "\n",
    "print(f\"Generated imbalanced dataset with shape: {df_imbalanced.shape}\")\n",
    "print(\"Imbalanced class distribution:\")\n",
    "print(df_imbalanced['target'].value_counts(normalize=True))\n",
    "\n",
    "# Save the imbalanced dataset\n",
    "df_imbalanced.to_csv(IMBALANCED_DATA_PATH, index=False)\n",
    "print(f\"Saved imbalanced dataset to {IMBALANCED_DATA_PATH}\")"
   ]
  }
 ],
 "metadata": {
  "kernelspec": {
   "display_name": ".venv",
   "language": "python",
   "name": "python3"
  },
  "language_info": {
   "codemirror_mode": {
    "name": "ipython",
    "version": 3
   },
   "file_extension": ".py",
   "mimetype": "text/x-python",
   "name": "python",
   "nbconvert_exporter": "python",
   "pygments_lexer": "ipython3",
   "version": "3.13.7"
  }
 },
 "nbformat": 4,
 "nbformat_minor": 5
}
