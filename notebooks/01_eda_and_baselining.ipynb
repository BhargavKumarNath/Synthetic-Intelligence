{
 "cells": [
  {
   "cell_type": "code",
   "execution_count": null,
   "id": "dca63a7e",
   "metadata": {},
   "outputs": [],
   "source": [
    "import os\n",
    "import time\n",
    "import pandas as pd\n",
    "import matplotlib.pyplot as plt\n",
    "import h2o\n",
    "from h2o.automl import H2OAutoML\n",
    "\n",
    "RANDOM_STATE = 42\n",
    "TRAIN_TIME_SECS = 600\n",
    "MAX_MODELS = 20\n",
    "N_THREADS = -1\n",
    "\n",
    "RAW_DATA_DIR = \"../data/01_raw/\"\n",
    "BALANCED_DATA_PATH = os.path.join(RAW_DATA_DIR, \"original_balanced.csv\")\n",
    "IMBALANCED_DATA_PATH = os.path.join(RAW_DATA_DIR, \"original_imbalanced.csv\")\n"
   ]
  },
  {
   "cell_type": "code",
   "execution_count": null,
   "id": "0f782825",
   "metadata": {},
   "outputs": [],
   "source": [
    "def initialize_h2o():\n",
    "    \"\"\"Robust initialization of H2O cluster.\"\"\"\n",
    "    try:\n",
    "        if h2o.cluster().is_running():\n",
    "            h2o.cluster().shutdown()\n",
    "            time.sleep(2)\n",
    "    except:\n",
    "        pass\n",
    "    h2o.init(nthreads=N_THREADS, max_mem_size=\"10g\")\n",
    "\n",
    "\n",
    "def run_automl(hf, predictors, response, dataset_name):\n",
    "    \"\"\"Train AutoML and return leaderboard + performance metrics.\"\"\"\n",
    "    train, valid, test = hf.split_frame(ratios=[0.7, 0.15], seed=RANDOM_STATE)\n",
    "\n",
    "    aml = H2OAutoML(\n",
    "    max_runtime_secs=TRAIN_TIME_SECS,\n",
    "    max_models=MAX_MODELS,\n",
    "    seed=RANDOM_STATE,\n",
    "    project_name=f\"{dataset_name}_{int(time.time())}\",\n",
    "    nfolds=0,\n",
    "    sort_metric=\"AUCPR\"\n",
    ")\n",
    "\n",
    "\n",
    "    aml.train(x=predictors, y=response, training_frame=train, validation_frame=valid)\n",
    "\n",
    "    perf = aml.leader.model_performance(test)\n",
    "    metrics = {\n",
    "        \"auc\": perf.auc(),\n",
    "        \"auprc\": perf.aucpr(),\n",
    "        \"f1\": perf.F1()[0][1],\n",
    "        \"recall\": perf.recall()[0][1],\n",
    "        \"precision\": perf.precision()[0][1],\n",
    "        \"accuracy\": perf.accuracy()[0][1]\n",
    "    }\n",
    "    return aml, aml.leaderboard, metrics\n"
   ]
  },
  {
   "cell_type": "code",
   "execution_count": 10,
   "id": "9015e756",
   "metadata": {},
   "outputs": [
    {
     "name": "stdout",
     "output_type": "stream",
     "text": [
      "=== Balanced Dataset Analysis ===\n",
      "Checking whether there is an H2O instance running at http://localhost:54321..... not found.\n",
      "Attempting to start a local H2O server...\n",
      "; OpenJDK 64-Bit Server VM Temurin-17.0.16+8 (build 17.0.16+8, mixed mode, sharing)\n",
      "  Starting server from C:\\Project\\Synthetic Intelligence\\.venv\\Lib\\site-packages\\h2o\\backend\\bin\\h2o.jar\n",
      "  Ice root: C:\\Users\\bharg\\AppData\\Local\\Temp\\tmp3272df2f\n",
      "  JVM stdout: C:\\Users\\bharg\\AppData\\Local\\Temp\\tmp3272df2f\\h2o_bharg_started_from_python.out\n",
      "  JVM stderr: C:\\Users\\bharg\\AppData\\Local\\Temp\\tmp3272df2f\\h2o_bharg_started_from_python.err\n",
      "  Server is running at http://127.0.0.1:54321\n",
      "Connecting to H2O server at http://127.0.0.1:54321 ... successful.\n",
      "Warning: Your H2O cluster version is (5 months and 5 days) old.  There may be a newer version available.\n",
      "Please download and install the latest version from: https://h2o-release.s3.amazonaws.com/h2o/latest_stable.html\n"
     ]
    },
    {
     "data": {
      "text/html": [
       "\n",
       "<style>\n",
       "\n",
       "#h2o-table-2.h2o-container {\n",
       "  overflow-x: auto;\n",
       "}\n",
       "#h2o-table-2 .h2o-table {\n",
       "  /* width: 100%; */\n",
       "  margin-top: 1em;\n",
       "  margin-bottom: 1em;\n",
       "}\n",
       "#h2o-table-2 .h2o-table caption {\n",
       "  white-space: nowrap;\n",
       "  caption-side: top;\n",
       "  text-align: left;\n",
       "  /* margin-left: 1em; */\n",
       "  margin: 0;\n",
       "  font-size: larger;\n",
       "}\n",
       "#h2o-table-2 .h2o-table thead {\n",
       "  white-space: nowrap; \n",
       "  position: sticky;\n",
       "  top: 0;\n",
       "  box-shadow: 0 -1px inset;\n",
       "}\n",
       "#h2o-table-2 .h2o-table tbody {\n",
       "  overflow: auto;\n",
       "}\n",
       "#h2o-table-2 .h2o-table th,\n",
       "#h2o-table-2 .h2o-table td {\n",
       "  text-align: right;\n",
       "  /* border: 1px solid; */\n",
       "}\n",
       "#h2o-table-2 .h2o-table tr:nth-child(even) {\n",
       "  /* background: #F5F5F5 */\n",
       "}\n",
       "\n",
       "</style>      \n",
       "<div id=\"h2o-table-2\" class=\"h2o-container\">\n",
       "  <table class=\"h2o-table\">\n",
       "    <caption></caption>\n",
       "    <thead></thead>\n",
       "    <tbody><tr><td>H2O_cluster_uptime:</td>\n",
       "<td>01 secs</td></tr>\n",
       "<tr><td>H2O_cluster_timezone:</td>\n",
       "<td>Europe/London</td></tr>\n",
       "<tr><td>H2O_data_parsing_timezone:</td>\n",
       "<td>UTC</td></tr>\n",
       "<tr><td>H2O_cluster_version:</td>\n",
       "<td>3.46.0.7</td></tr>\n",
       "<tr><td>H2O_cluster_version_age:</td>\n",
       "<td>5 months and 5 days</td></tr>\n",
       "<tr><td>H2O_cluster_name:</td>\n",
       "<td>H2O_from_python_bharg_wxdc8x</td></tr>\n",
       "<tr><td>H2O_cluster_total_nodes:</td>\n",
       "<td>1</td></tr>\n",
       "<tr><td>H2O_cluster_free_memory:</td>\n",
       "<td>10 Gb</td></tr>\n",
       "<tr><td>H2O_cluster_total_cores:</td>\n",
       "<td>16</td></tr>\n",
       "<tr><td>H2O_cluster_allowed_cores:</td>\n",
       "<td>16</td></tr>\n",
       "<tr><td>H2O_cluster_status:</td>\n",
       "<td>locked, healthy</td></tr>\n",
       "<tr><td>H2O_connection_url:</td>\n",
       "<td>http://127.0.0.1:54321</td></tr>\n",
       "<tr><td>H2O_connection_proxy:</td>\n",
       "<td>{\"http\": null, \"https\": null}</td></tr>\n",
       "<tr><td>H2O_internal_security:</td>\n",
       "<td>False</td></tr>\n",
       "<tr><td>Python_version:</td>\n",
       "<td>3.13.7 final</td></tr></tbody>\n",
       "  </table>\n",
       "</div>\n"
      ],
      "text/plain": [
       "--------------------------  -----------------------------\n",
       "H2O_cluster_uptime:         01 secs\n",
       "H2O_cluster_timezone:       Europe/London\n",
       "H2O_data_parsing_timezone:  UTC\n",
       "H2O_cluster_version:        3.46.0.7\n",
       "H2O_cluster_version_age:    5 months and 5 days\n",
       "H2O_cluster_name:           H2O_from_python_bharg_wxdc8x\n",
       "H2O_cluster_total_nodes:    1\n",
       "H2O_cluster_free_memory:    10 Gb\n",
       "H2O_cluster_total_cores:    16\n",
       "H2O_cluster_allowed_cores:  16\n",
       "H2O_cluster_status:         locked, healthy\n",
       "H2O_connection_url:         http://127.0.0.1:54321\n",
       "H2O_connection_proxy:       {\"http\": null, \"https\": null}\n",
       "H2O_internal_security:      False\n",
       "Python_version:             3.13.7 final\n",
       "--------------------------  -----------------------------"
      ]
     },
     "metadata": {},
     "output_type": "display_data"
    },
    {
     "name": "stdout",
     "output_type": "stream",
     "text": [
      "Parse progress: |████████████████████████████████████████████████████████████████| (done) 100%\n",
      "AutoML progress: |\n",
      "00:18:04.922: AutoML: XGBoost is not available; skipping it.\n",
      "\n",
      "███████████████████████████████████████████████████████████████| (done) 100%\n"
     ]
    },
    {
     "data": {
      "text/plain": [
       "{'auc': 0.9719759244838633,\n",
       " 'auprc': 0.9629788262794675,\n",
       " 'f1': 0.9581390582569042,\n",
       " 'recall': 1.0,\n",
       " 'precision': 0.9739918176504968,\n",
       " 'accuracy': 0.9575407961750337}"
      ]
     },
     "execution_count": 10,
     "metadata": {},
     "output_type": "execute_result"
    }
   ],
   "source": [
    "print(\"=== Balanced Dataset Analysis ===\")\n",
    "initialize_h2o()\n",
    "\n",
    "df_balanced = pd.read_csv(BALANCED_DATA_PATH)\n",
    "hf_balanced = h2o.H2OFrame(df_balanced)\n",
    "response = \"target\"\n",
    "predictors = [c for c in hf_balanced.columns if c != response]\n",
    "hf_balanced[response] = hf_balanced[response].asfactor()\n",
    "\n",
    "aml_bal, lb_bal, metrics_bal = run_automl(hf_balanced, predictors, response, \"balanced\")\n",
    "metrics_bal\n"
   ]
  },
  {
   "cell_type": "code",
   "execution_count": 11,
   "id": "b20bf9a4",
   "metadata": {},
   "outputs": [
    {
     "name": "stdout",
     "output_type": "stream",
     "text": [
      "=== Imbalanced Dataset Analysis ===\n",
      "Parse progress: |████████████████████████████████████████████████████████████████| (done) 100%\n",
      "AutoML progress: |\n",
      "00:23:28.407: AutoML: XGBoost is not available; skipping it.\n",
      "\n",
      "███████████████████████████████████████████████████████████████| (done) 100%\n"
     ]
    },
    {
     "data": {
      "text/plain": [
       "{'auc': 0.9692265628249033,\n",
       " 'auprc': 0.7404608211180718,\n",
       " 'f1': 0.8048645660585959,\n",
       " 'recall': 1.0,\n",
       " 'precision': 1.0,\n",
       " 'accuracy': 0.9663809523809523}"
      ]
     },
     "execution_count": 11,
     "metadata": {},
     "output_type": "execute_result"
    }
   ],
   "source": [
    "print(\"=== Imbalanced Dataset Analysis ===\")\n",
    "\n",
    "df_imbalanced = pd.read_csv(IMBALANCED_DATA_PATH)\n",
    "hf_imbalanced = h2o.H2OFrame(df_imbalanced)\n",
    "hf_imbalanced[response] = hf_imbalanced[response].asfactor()\n",
    "\n",
    "aml_imb, lb_imb, metrics_imb = run_automl(hf_imbalanced, predictors, response, \"imbalanced\")\n",
    "metrics_imb"
   ]
  },
  {
   "cell_type": "code",
   "execution_count": 12,
   "id": "43d02877",
   "metadata": {},
   "outputs": [
    {
     "name": "stdout",
     "output_type": "stream",
     "text": [
      "                                             model_id     aucpr       auc  \\\n",
      "0   DeepLearning_grid_2_AutoML_1_20250902_01804_mo...  0.965461  0.973211   \n",
      "1   DeepLearning_grid_3_AutoML_1_20250902_01804_mo...  0.965271  0.973239   \n",
      "2   DeepLearning_grid_2_AutoML_1_20250902_01804_mo...  0.965004  0.973334   \n",
      "3   DeepLearning_grid_3_AutoML_1_20250902_01804_mo...  0.964532  0.973668   \n",
      "4   DeepLearning_grid_1_AutoML_1_20250902_01804_mo...  0.964030  0.972497   \n",
      "5   DeepLearning_grid_1_AutoML_1_20250902_01804_mo...  0.963909  0.971737   \n",
      "6          GBM_grid_1_AutoML_1_20250902_01804_model_2  0.963327  0.970844   \n",
      "7                       GBM_3_AutoML_1_20250902_01804  0.963256  0.971059   \n",
      "8                       GBM_4_AutoML_1_20250902_01804  0.962786  0.971251   \n",
      "9              DeepLearning_1_AutoML_1_20250902_01804  0.962704  0.971423   \n",
      "10         GBM_grid_1_AutoML_1_20250902_01804_model_5  0.962651  0.971031   \n",
      "11         GBM_grid_1_AutoML_1_20250902_01804_model_4  0.962648  0.970618   \n",
      "12                      GBM_2_AutoML_1_20250902_01804  0.962356  0.970673   \n",
      "13                      GBM_1_AutoML_1_20250902_01804  0.961714  0.971004   \n",
      "14                      GBM_5_AutoML_1_20250902_01804  0.961060  0.969505   \n",
      "15         GBM_grid_1_AutoML_1_20250902_01804_model_1  0.959619  0.967359   \n",
      "16                      XRT_1_AutoML_1_20250902_01804  0.958221  0.967463   \n",
      "17         GBM_grid_1_AutoML_1_20250902_01804_model_3  0.958108  0.966551   \n",
      "18                      DRF_1_AutoML_1_20250902_01804  0.955913  0.965317   \n",
      "19                      GLM_1_AutoML_1_20250902_01804  0.804449  0.825616   \n",
      "\n",
      "     logloss  mean_per_class_error      rmse       mse  \n",
      "0   0.175544              0.039533  0.189159  0.035781  \n",
      "1   0.166928              0.038654  0.186935  0.034945  \n",
      "2   0.159605              0.034949  0.181630  0.032989  \n",
      "3   0.142924              0.033006  0.175935  0.030953  \n",
      "4   0.193896              0.042880  0.197859  0.039148  \n",
      "5   0.230032              0.045163  0.201509  0.040606  \n",
      "6   0.192577              0.056292  0.221007  0.048844  \n",
      "7   0.188807              0.050076  0.214723  0.046106  \n",
      "8   0.184352              0.050110  0.209552  0.043912  \n",
      "9   0.168820              0.047366  0.202229  0.040896  \n",
      "10  0.185197              0.049459  0.208718  0.043563  \n",
      "11  0.194574              0.054055  0.214884  0.046175  \n",
      "12  0.195825              0.053908  0.220132  0.048458  \n",
      "13  0.183190              0.049271  0.207513  0.043062  \n",
      "14  0.203392              0.057054  0.225475  0.050839  \n",
      "15  0.226560              0.070108  0.244242  0.059654  \n",
      "16  0.265389              0.067725  0.263788  0.069584  \n",
      "17  0.221453              0.068643  0.236301  0.055838  \n",
      "18  0.279032              0.073309  0.272504  0.074258  \n",
      "19  0.512755              0.256407  0.412652  0.170281  \n"
     ]
    },
    {
     "name": "stderr",
     "output_type": "stream",
     "text": [
      "c:\\Project\\Synthetic Intelligence\\.venv\\Lib\\site-packages\\h2o\\frame.py:1983: H2ODependencyWarning: Converting H2O frame to pandas dataframe using single-thread.  For faster conversion using multi-thread, install polars and pyarrow and use it as pandas_df = h2o_df.as_data_frame(use_multi_thread=True)\n",
      "\n",
      "  warnings.warn(\"Converting H2O frame to pandas dataframe using single-thread.  For faster conversion using\"\n"
     ]
    }
   ],
   "source": [
    "lb_df = aml_bal.leaderboard.as_data_frame()\n",
    "print(lb_df)"
   ]
  },
  {
   "cell_type": "code",
   "execution_count": 13,
   "id": "16afe2a6",
   "metadata": {},
   "outputs": [
    {
     "data": {
      "text/html": [
       "<div>\n",
       "<style scoped>\n",
       "    .dataframe tbody tr th:only-of-type {\n",
       "        vertical-align: middle;\n",
       "    }\n",
       "\n",
       "    .dataframe tbody tr th {\n",
       "        vertical-align: top;\n",
       "    }\n",
       "\n",
       "    .dataframe thead th {\n",
       "        text-align: right;\n",
       "    }\n",
       "</style>\n",
       "<table border=\"1\" class=\"dataframe\">\n",
       "  <thead>\n",
       "    <tr style=\"text-align: right;\">\n",
       "      <th></th>\n",
       "      <th>auc</th>\n",
       "      <th>auprc</th>\n",
       "      <th>f1</th>\n",
       "      <th>recall</th>\n",
       "      <th>precision</th>\n",
       "      <th>accuracy</th>\n",
       "    </tr>\n",
       "  </thead>\n",
       "  <tbody>\n",
       "    <tr>\n",
       "      <th>Balanced</th>\n",
       "      <td>0.9720</td>\n",
       "      <td>0.9630</td>\n",
       "      <td>0.9581</td>\n",
       "      <td>1.0</td>\n",
       "      <td>0.974</td>\n",
       "      <td>0.9575</td>\n",
       "    </tr>\n",
       "    <tr>\n",
       "      <th>Imbalanced</th>\n",
       "      <td>0.9692</td>\n",
       "      <td>0.7405</td>\n",
       "      <td>0.8049</td>\n",
       "      <td>1.0</td>\n",
       "      <td>1.000</td>\n",
       "      <td>0.9664</td>\n",
       "    </tr>\n",
       "  </tbody>\n",
       "</table>\n",
       "</div>"
      ],
      "text/plain": [
       "               auc   auprc      f1  recall  precision  accuracy\n",
       "Balanced    0.9720  0.9630  0.9581     1.0      0.974    0.9575\n",
       "Imbalanced  0.9692  0.7405  0.8049     1.0      1.000    0.9664"
      ]
     },
     "metadata": {},
     "output_type": "display_data"
    },
    {
     "data": {
      "image/png": "[encoded data removed]",
      "text/plain": [
       "<Figure size 1000x600 with 1 Axes>"
      ]
     },
     "metadata": {},
     "output_type": "display_data"
    }
   ],
   "source": [
    "df_results = pd.DataFrame(\n",
    "    {\"Balanced\": metrics_bal, \"Imbalanced\": metrics_imb}\n",
    ").T.round(4)\n",
    "\n",
    "display(df_results)\n",
    "\n",
    "df_results[[\"f1\", \"auprc\", \"recall\", \"precision\"]].plot(\n",
    "    kind=\"bar\", figsize=(10, 6), grid=True, ylim=(0, 1.05),\n",
    "    title=\"Performance Comparison (Balanced vs Imbalanced)\"\n",
    ")\n",
    "plt.ylabel(\"Score\")\n",
    "plt.xticks(rotation=0)\n",
    "plt.show()\n"
   ]
  },
  {
   "cell_type": "code",
   "execution_count": 14,
   "id": "58daac5f",
   "metadata": {},
   "outputs": [
    {
     "name": "stdout",
     "output_type": "stream",
     "text": [
      "H2O session _sid_aed0 closed.\n"
     ]
    }
   ],
   "source": [
    "h2o.cluster().shutdown(prompt=False)\n"
   ]
  }
 ],
 "metadata": {
  "kernelspec": {
   "display_name": ".venv",
   "language": "python",
   "name": "python3"
  },
  "language_info": {
   "codemirror_mode": {
    "name": "ipython",
    "version": 3
   },
   "file_extension": ".py",
   "mimetype": "text/x-python",
   "name": "python",
   "nbconvert_exporter": "python",
   "pygments_lexer": "ipython3",
   "version": "3.13.7"
  }
 },
 "nbformat": 4,
 "nbformat_minor": 5
}
