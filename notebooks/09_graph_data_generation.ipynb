{
 "cells": [
  {
   "cell_type": "code",
   "execution_count": 8,
   "id": "9d8cc039",
   "metadata": {},
   "outputs": [],
   "source": [
    "import numpy as np\n",
    "import pandas as pd\n",
    "from sklearn.neighbors import NearestNeighbors\n",
    "from sklearn.preprocessing import StandardScaler\n",
    "import os\n",
    "\n",
    "RANDOM_STATE = 42\n",
    "N_NEIGHBORS = 5\n",
    "N_SYNTHETIC_SAMPLES_TO_GENERATE = 250000"
   ]
  },
  {
   "cell_type": "code",
   "execution_count": 9,
   "id": "4a0b0ebd",
   "metadata": {},
   "outputs": [],
   "source": [
    "IMBALANCED_DATA_PATH = '../data/01_raw/original_imbalanced.csv'\n",
    "PROCESSED_DATA_DIR = '../data/02_processed/'\n",
    "GRAPH_DRIVEN_SYNTHETIC_PATH = os.path.join(PROCESSED_DATA_DIR, 'graph_driven_synthetic.csv')"
   ]
  },
  {
   "cell_type": "code",
   "execution_count": 10,
   "id": "9edc4f1a",
   "metadata": {},
   "outputs": [],
   "source": [
    "# Load and prepare data\n",
    "df_imbalanced = pd.read_csv(IMBALANCED_DATA_PATH)\n",
    "df_train = df_imbalanced.sample(frac=0.7, random_state=RANDOM_STATE)\n",
    "df_minority = df_train[df_train['target'] == 1].drop('target', axis=1)\n",
    "df_majority = df_train[df_train['target'] == 0]\n",
    "\n",
    "numerical_cols = df_minority.select_dtypes(include=np.number).columns\n",
    "scaler = StandardScaler()\n",
    "df_minority_scaled = scaler.fit_transform(df_minority[numerical_cols])"
   ]
  },
  {
   "cell_type": "code",
   "execution_count": 11,
   "id": "026a9023",
   "metadata": {},
   "outputs": [
    {
     "name": "stdout",
     "output_type": "stream",
     "text": [
      "Building kNN graph from minority samples...\n",
      "Generating 250000 synthetic samples...\n"
     ]
    }
   ],
   "source": [
    "print(\"Building kNN graph from minority samples...\")\n",
    "nn = NearestNeighbors(n_neighbors=N_NEIGHBORS + 1, algorithm='ball_tree')\n",
    "nn.fit(df_minority_scaled)\n",
    "distances, indices = nn.kneighbors(df_minority_scaled)\n",
    "\n",
    "print(f\"Generating {N_SYNTHETIC_SAMPLES_TO_GENERATE} synthetic samples...\")\n",
    "synthetic_samples = []\n",
    "minority_numpy = df_minority[numerical_cols].to_numpy()"
   ]
  },
  {
   "cell_type": "code",
   "execution_count": 12,
   "id": "384789eb",
   "metadata": {},
   "outputs": [
    {
     "name": "stdout",
     "output_type": "stream",
     "text": [
      "Saved graph driven sunthetic dataset to ../data/02_processed/graph_driven_synthetic.csv\n"
     ]
    }
   ],
   "source": [
    "for _ in range(N_SYNTHETIC_SAMPLES_TO_GENERATE):\n",
    "    random_node_idx = np.random.randint(0, len(df_minority_scaled))\n",
    "\n",
    "    random_neighbor_idx = np.random.choice(indices[random_node_idx][1:])\n",
    "\n",
    "    p1 = minority_numpy[random_node_idx]\n",
    "    p2 = minority_numpy[random_neighbor_idx]\n",
    "    interpolation_ratio = np.random.rand()\n",
    "    new_sample_numerical = p1 * interpolation_ratio + p2 * (1 - interpolation_ratio)\n",
    "\n",
    "    new_sample_categorical = df_minority.iloc[random_node_idx].drop(numerical_cols)\n",
    "\n",
    "    new_sample = pd.concat(\n",
    "        [pd.Series(new_sample_numerical, index=numerical_cols), new_sample_categorical]\n",
    "    )\n",
    "    new_sample['target'] = 1\n",
    "    synthetic_samples.append(new_sample)\n",
    "\n",
    "df_synthetic = pd.DataFrame(synthetic_samples)[df_train.columns]  # enforce column order\n",
    "df_graph_driven = pd.concat([df_majority, df_synthetic]).sample(frac=1, random_state=RANDOM_STATE)\n",
    "\n",
    "df_graph_driven.to_csv(GRAPH_DRIVEN_SYNTHETIC_PATH, index=False)\n",
    "print(f\"Saved graph driven sunthetic dataset to {GRAPH_DRIVEN_SYNTHETIC_PATH}\")"
   ]
  },
  {
   "cell_type": "code",
   "execution_count": null,
   "id": "c9913eb8",
   "metadata": {},
   "outputs": [],
   "source": []
  }
 ],
 "metadata": {
  "kernelspec": {
   "display_name": ".venv",
   "language": "python",
   "name": "python3"
  },
  "language_info": {
   "codemirror_mode": {
    "name": "ipython",
    "version": 3
   },
   "file_extension": ".py",
   "mimetype": "text/x-python",
   "name": "python",
   "nbconvert_exporter": "python",
   "pygments_lexer": "ipython3",
   "version": "3.13.7"
  }
 },
 "nbformat": 4,
 "nbformat_minor": 5
}
