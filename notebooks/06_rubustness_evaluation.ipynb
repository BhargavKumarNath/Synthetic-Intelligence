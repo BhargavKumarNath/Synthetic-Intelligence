{
 "cells": [
  {
   "cell_type": "code",
   "execution_count": 1,
   "id": "7b6da1d9",
   "metadata": {},
   "outputs": [],
   "source": [
    "import os\n",
    "import pandas as pd\n",
    "import numpy as np\n",
    "import h2o\n",
    "from h2o.automl import H2OAutoML\n",
    "import matplotlib.pyplot as plt\n",
    "import seaborn as sns"
   ]
  },
  {
   "cell_type": "code",
   "execution_count": 2,
   "id": "4bfc9b14",
   "metadata": {},
   "outputs": [
    {
     "name": "stdout",
     "output_type": "stream",
     "text": [
      "Checking whether there is an H2O instance running at http://localhost:54321..... not found.\n",
      "Attempting to start a local H2O server...\n",
      "; OpenJDK 64-Bit Server VM Temurin-17.0.16+8 (build 17.0.16+8, mixed mode, sharing)\n",
      "  Starting server from C:\\Project\\Synthetic Intelligence\\.venv\\Lib\\site-packages\\h2o\\backend\\bin\\h2o.jar\n",
      "  Ice root: C:\\Users\\bharg\\AppData\\Local\\Temp\\tmp38nvbfoz\n",
      "  JVM stdout: C:\\Users\\bharg\\AppData\\Local\\Temp\\tmp38nvbfoz\\h2o_bharg_started_from_python.out\n",
      "  JVM stderr: C:\\Users\\bharg\\AppData\\Local\\Temp\\tmp38nvbfoz\\h2o_bharg_started_from_python.err\n",
      "  Server is running at http://127.0.0.1:54321\n",
      "Connecting to H2O server at http://127.0.0.1:54321 ... successful.\n",
      "Warning: Your H2O cluster version is (5 months and 6 days) old.  There may be a newer version available.\n",
      "Please download and install the latest version from: https://h2o-release.s3.amazonaws.com/h2o/latest_stable.html\n"
     ]
    },
    {
     "data": {
      "text/html": [
       "\n",
       "<style>\n",
       "\n",
       "#h2o-table-1.h2o-container {\n",
       "  overflow-x: auto;\n",
       "}\n",
       "#h2o-table-1 .h2o-table {\n",
       "  /* width: 100%; */\n",
       "  margin-top: 1em;\n",
       "  margin-bottom: 1em;\n",
       "}\n",
       "#h2o-table-1 .h2o-table caption {\n",
       "  white-space: nowrap;\n",
       "  caption-side: top;\n",
       "  text-align: left;\n",
       "  /* margin-left: 1em; */\n",
       "  margin: 0;\n",
       "  font-size: larger;\n",
       "}\n",
       "#h2o-table-1 .h2o-table thead {\n",
       "  white-space: nowrap; \n",
       "  position: sticky;\n",
       "  top: 0;\n",
       "  box-shadow: 0 -1px inset;\n",
       "}\n",
       "#h2o-table-1 .h2o-table tbody {\n",
       "  overflow: auto;\n",
       "}\n",
       "#h2o-table-1 .h2o-table th,\n",
       "#h2o-table-1 .h2o-table td {\n",
       "  text-align: right;\n",
       "  /* border: 1px solid; */\n",
       "}\n",
       "#h2o-table-1 .h2o-table tr:nth-child(even) {\n",
       "  /* background: #F5F5F5 */\n",
       "}\n",
       "\n",
       "</style>      \n",
       "<div id=\"h2o-table-1\" class=\"h2o-container\">\n",
       "  <table class=\"h2o-table\">\n",
       "    <caption></caption>\n",
       "    <thead></thead>\n",
       "    <tbody><tr><td>H2O_cluster_uptime:</td>\n",
       "<td>01 secs</td></tr>\n",
       "<tr><td>H2O_cluster_timezone:</td>\n",
       "<td>Europe/London</td></tr>\n",
       "<tr><td>H2O_data_parsing_timezone:</td>\n",
       "<td>UTC</td></tr>\n",
       "<tr><td>H2O_cluster_version:</td>\n",
       "<td>3.46.0.7</td></tr>\n",
       "<tr><td>H2O_cluster_version_age:</td>\n",
       "<td>5 months and 6 days</td></tr>\n",
       "<tr><td>H2O_cluster_name:</td>\n",
       "<td>H2O_from_python_bharg_iuwod8</td></tr>\n",
       "<tr><td>H2O_cluster_total_nodes:</td>\n",
       "<td>1</td></tr>\n",
       "<tr><td>H2O_cluster_free_memory:</td>\n",
       "<td>10 Gb</td></tr>\n",
       "<tr><td>H2O_cluster_total_cores:</td>\n",
       "<td>16</td></tr>\n",
       "<tr><td>H2O_cluster_allowed_cores:</td>\n",
       "<td>16</td></tr>\n",
       "<tr><td>H2O_cluster_status:</td>\n",
       "<td>locked, healthy</td></tr>\n",
       "<tr><td>H2O_connection_url:</td>\n",
       "<td>http://127.0.0.1:54321</td></tr>\n",
       "<tr><td>H2O_connection_proxy:</td>\n",
       "<td>{\"http\": null, \"https\": null}</td></tr>\n",
       "<tr><td>H2O_internal_security:</td>\n",
       "<td>False</td></tr>\n",
       "<tr><td>Python_version:</td>\n",
       "<td>3.13.7 final</td></tr></tbody>\n",
       "  </table>\n",
       "</div>\n"
      ],
      "text/plain": [
       "--------------------------  -----------------------------\n",
       "H2O_cluster_uptime:         01 secs\n",
       "H2O_cluster_timezone:       Europe/London\n",
       "H2O_data_parsing_timezone:  UTC\n",
       "H2O_cluster_version:        3.46.0.7\n",
       "H2O_cluster_version_age:    5 months and 6 days\n",
       "H2O_cluster_name:           H2O_from_python_bharg_iuwod8\n",
       "H2O_cluster_total_nodes:    1\n",
       "H2O_cluster_free_memory:    10 Gb\n",
       "H2O_cluster_total_cores:    16\n",
       "H2O_cluster_allowed_cores:  16\n",
       "H2O_cluster_status:         locked, healthy\n",
       "H2O_connection_url:         http://127.0.0.1:54321\n",
       "H2O_connection_proxy:       {\"http\": null, \"https\": null}\n",
       "H2O_internal_security:      False\n",
       "Python_version:             3.13.7 final\n",
       "--------------------------  -----------------------------"
      ]
     },
     "metadata": {},
     "output_type": "display_data"
    }
   ],
   "source": [
    "RANDOM_STATE = 42\n",
    "NOISE_LEVEL = 0.10\n",
    "\n",
    "MODELS_DIR = '../models/'\n",
    "IMBALANCED_DATA_PATH = '../data/01_raw/original_imbalanced.csv'\n",
    "SMOTE_DATA_PATH = '../data/02_processed/smote_augmented_train.csv'\n",
    "MODEL_DRIVEN_SYNTHETIC_PATH = '../data/02_processed/model_driven_synthetic.csv'\n",
    "\n",
    "h2o.init(nthreads=-1, max_mem_size=\"10g\")"
   ]
  },
  {
   "cell_type": "markdown",
   "id": "e2231f7f",
   "metadata": {},
   "source": [
    "# Model Loading and Training"
   ]
  },
  {
   "cell_type": "code",
   "execution_count": 3,
   "id": "f6edd73c",
   "metadata": {},
   "outputs": [],
   "source": [
    "def get_trained_model(model_name, training_hf, predictors, response, sort_metric=\"AUCPR\"):\n",
    "    \"\"\"Loads a saved H2O model or retains it if not found\"\"\"\n",
    "    model_path = os.path.join(MODELS_DIR, f\"{model_name}.model\")\n",
    "\n",
    "    if os.path.exists(model_path):\n",
    "        print(f\"Loading saved model: {model_name}...\")\n",
    "        model = h2o.load_model(model_path)\n",
    "    else:\n",
    "        print(f\"Training and saving model: {model_name}...\")\n",
    "        if len(training_hf.split_frame(ratios=[0.8], seed=RANDOM_STATE)) == 2:\n",
    "            train, valid = training_hf.split_frame(ratios=[0.8], seed=RANDOM_STATE)\n",
    "            validation_frame = valid\n",
    "        else:\n",
    "            train = training_hf\n",
    "            validation_frame = None\n",
    "        \n",
    "        aml = H2OAutoML(\n",
    "            max_runtime_secs=600,\n",
    "            max_models=20,\n",
    "            seed=RANDOM_STATE,\n",
    "            project_name=f\"{model_name}_train\", \n",
    "            sort_metric=sort_metric\n",
    "        )\n",
    "        aml.train(x=predictors, y=response, training_frame=train, validation_frame=validation_frame)\n",
    "        model = aml.leader\n",
    "        h2o.save_model(model=model, path=MODELS_DIR, filename=f\"{model_name}.model\", force=True)\n",
    "\n",
    "    return model"
   ]
  },
  {
   "cell_type": "code",
   "execution_count": 4,
   "id": "f7408f57",
   "metadata": {},
   "outputs": [
    {
     "name": "stdout",
     "output_type": "stream",
     "text": [
      "Parse progress: |████████████████████████████████████████████████████████████████| (done) 100%\n",
      "Loading saved model: imbalanced_leader...\n",
      "Parse progress: |████████████████████████████████████████████████████████████████| (done) 100%\n",
      "Loading saved model: smote_leader...\n",
      "Parse progress: |████████████████████████████████████████████████████████████████| (done) 100%\n",
      "Loading saved model: model_driven_leader...\n"
     ]
    }
   ],
   "source": [
    "# Prepare data and get models\n",
    "response = \"target\"\n",
    "\n",
    "# Model 1\n",
    "hf_imbalanced = h2o.H2OFrame(pd.read_csv(IMBALANCED_DATA_PATH))\n",
    "hf_imbalanced[response] = hf_imbalanced[response].asfactor()\n",
    "predictors = [c for c in hf_imbalanced.columns if c != response]\n",
    "model_imbalanced = get_trained_model(\"imbalanced_leader\", hf_imbalanced, predictors, response)\n",
    "\n",
    "# Model 2\n",
    "df_smote_train = pd.read_csv(SMOTE_DATA_PATH)\n",
    "hf_smote_train = h2o.H2OFrame(df_smote_train)\n",
    "hf_smote_train[response] = hf_smote_train[response].asfactor()\n",
    "smote_predictors = [c for c in hf_smote_train.columns if c != response]\n",
    "model_smote = get_trained_model(\"smote_leader\", hf_smote_train, smote_predictors, response)\n",
    "\n",
    "# Model 3\n",
    "hf_model_driven = h2o.H2OFrame(pd.read_csv(MODEL_DRIVEN_SYNTHETIC_PATH))\n",
    "hf_model_driven[response] = hf_model_driven[response].asfactor()\n",
    "model_model_driven = get_trained_model(\"model_driven_leader\", hf_model_driven, predictors, response)"
   ]
  },
  {
   "cell_type": "markdown",
   "id": "1896b1c3",
   "metadata": {},
   "source": [
    "# Test Set Preparation (Clean vs. Noisy)"
   ]
  },
  {
   "cell_type": "code",
   "execution_count": 5,
   "id": "40a3678e",
   "metadata": {},
   "outputs": [
    {
     "name": "stdout",
     "output_type": "stream",
     "text": [
      "\n",
      "Creating pertubed (noisy) test set...\n"
     ]
    },
    {
     "name": "stderr",
     "output_type": "stream",
     "text": [
      "c:\\Project\\Synthetic Intelligence\\.venv\\Lib\\site-packages\\h2o\\frame.py:1983: H2ODependencyWarning: Converting H2O frame to pandas dataframe using single-thread.  For faster conversion using multi-thread, install polars and pyarrow and use it as pandas_df = h2o_df.as_data_frame(use_multi_thread=True)\n",
      "\n",
      "  warnings.warn(\"Converting H2O frame to pandas dataframe using single-thread.  For faster conversion using\"\n"
     ]
    },
    {
     "name": "stdout",
     "output_type": "stream",
     "text": [
      "Parse progress: |████████████████████████████████████████████████████████████████| (done) 100%\n",
      "Test sets prepared\n"
     ]
    }
   ],
   "source": [
    "_, _, test_hf_clean = hf_imbalanced.split_frame(ratios=[0.7, 0.15], seed=RANDOM_STATE)\n",
    "\n",
    "print(\"\\nCreating pertubed (noisy) test set...\")\n",
    "df_test_clean = test_hf_clean.as_data_frame()\n",
    "df_test_noisy = df_test_clean.copy()\n",
    "\n",
    "numerical_cols = df_test_noisy.select_dtypes(include=np.number).columns.drop(response, errors='ignore')\n",
    "\n",
    "for col in numerical_cols:\n",
    "    std = df_test_noisy[col].std()\n",
    "    noise = np.random.normal(0, std * NOISE_LEVEL, df_test_noisy.shape[0])\n",
    "    df_test_noisy[col] = df_test_noisy[col] + noise\n",
    "\n",
    "test_hf_noisy = h2o.H2OFrame(df_test_noisy)\n",
    "test_hf_noisy[response] = test_hf_noisy[response].asfactor()\n",
    "\n",
    "print(\"Test sets prepared\")\n"
   ]
  },
  {
   "cell_type": "markdown",
   "id": "7605c5d6",
   "metadata": {},
   "source": [
    "# Evaluation and analysis"
   ]
  },
  {
   "cell_type": "code",
   "execution_count": null,
   "id": "e9327af2",
   "metadata": {},
   "outputs": [
    {
     "name": "stdout",
     "output_type": "stream",
     "text": [
      "Evaluating Imbalanced model...\n",
      "Evaluating SMOTE model...\n"
     ]
    },
    {
     "name": "stderr",
     "output_type": "stream",
     "text": [
      "c:\\Project\\Synthetic Intelligence\\.venv\\Lib\\site-packages\\h2o\\frame.py:1983: H2ODependencyWarning: Converting H2O frame to pandas dataframe using single-thread.  For faster conversion using multi-thread, install polars and pyarrow and use it as pandas_df = h2o_df.as_data_frame(use_multi_thread=True)\n",
      "\n",
      "  warnings.warn(\"Converting H2O frame to pandas dataframe using single-thread.  For faster conversion using\"\n"
     ]
    },
    {
     "name": "stdout",
     "output_type": "stream",
     "text": [
      "Parse progress: |████████████████████████████████████████████████████████████████| (done) 100%\n"
     ]
    },
    {
     "name": "stderr",
     "output_type": "stream",
     "text": [
      "c:\\Project\\Synthetic Intelligence\\.venv\\Lib\\site-packages\\h2o\\frame.py:1983: H2ODependencyWarning: Converting H2O frame to pandas dataframe using single-thread.  For faster conversion using multi-thread, install polars and pyarrow and use it as pandas_df = h2o_df.as_data_frame(use_multi_thread=True)\n",
      "\n",
      "  warnings.warn(\"Converting H2O frame to pandas dataframe using single-thread.  For faster conversion using\"\n"
     ]
    },
    {
     "name": "stdout",
     "output_type": "stream",
     "text": [
      "Parse progress: |████████████████████████████████████████████████████████████████| (done) 100%\n",
      "Evaluating ModelDriven model...\n"
     ]
    }
   ],
   "source": [
    "def evaluate_model(model, test_hf, model_name, dataset_type, one_hot_predictors=None, response=\"target\"):\n",
    "    \"\"\"Helper function to evaluate a model and return key metrics\"\"\"\n",
    "    if one_hot_predictors:\n",
    "        test_df = test_hf.as_data_frame()\n",
    "        test_df_encoded = pd.get_dummies(test_df)\n",
    "        test_df_encoded = test_df_encoded.reindex(columns=one_hot_predictors + [response], fill_value=0)\n",
    "        test_hf_eval = h2o.H2OFrame(test_df_encoded)\n",
    "        test_hf_eval[response] = test_hf_eval[response].asfactor()\n",
    "    else:\n",
    "        test_hf_eval = test_hf\n",
    "    \n",
    "    perf = model.model_performance(test_hf_eval)\n",
    "    return {\n",
    "        \"Model\": model_name,\n",
    "        \"Test Set\": dataset_type,\n",
    "        \"AUPRC\": perf.aucpr(),\n",
    "        \"F1\": perf.F1()[0][1],\n",
    "        \"AUC\": perf.auc()\n",
    "    }\n",
    "\n",
    "all_results = []\n",
    "models_to_test = {\n",
    "    \"Imbalanced\": model_imbalanced,\n",
    "    \"SMOTE\": model_smote,\n",
    "    \"ModelDriven\": model_model_driven\n",
    "}\n",
    "\n",
    "for name, model in models_to_test.items():\n",
    "    print(f\"Evaluating {name} model...\")\n",
    "    smote_preds = smote_predictors if name == \"SMOTE\" else None\n",
    "    \n",
    "    all_results.append(evaluate_model(model, test_hf_clean, name, \"Clean\", smote_preds))\n",
    "    all_results.append(evaluate_model(model, test_hf_noisy, name, \"Noisy\", smote_preds))\n",
    "\n",
    "#  Analyse Results \n",
    "df_results = pd.DataFrame(all_results)\n",
    "df_pivot = df_results.pivot(index=\"Model\", columns=\"Test Set\", values=[\"AUPRC\", \"F1\"])"
   ]
  },
  {
   "cell_type": "code",
   "execution_count": 7,
   "id": "cc7f7a38",
   "metadata": {},
   "outputs": [
    {
     "name": "stdout",
     "output_type": "stream",
     "text": [
      "\n",
      "\n",
      " Robustness Performance Comparison\n",
      "                Model   AUPRC              F1         AUPRC_Drop F1_Drop\n",
      "Test Set                Clean   Noisy   Clean   Noisy                   \n",
      "0          Imbalanced  0.7511  0.7515  0.8146  0.8150    -0.0005 -0.0006\n",
      "1         ModelDriven  0.6809  0.6728  0.7165  0.7074     0.0119  0.0127\n",
      "2               SMOTE  0.9301  0.9218  0.8602  0.8561     0.0089  0.0048\n"
     ]
    }
   ],
   "source": [
    "df_pivot = df_pivot.reset_index()\n",
    "\n",
    "# Compute drop metrics\n",
    "df_pivot['AUPRC_Drop'] = (df_pivot[('AUPRC', \"Clean\")] - df_pivot[('AUPRC', 'Noisy')]) / df_pivot[('AUPRC', 'Clean')]\n",
    "df_pivot['F1_Drop'] = (df_pivot[('F1', 'Clean')] - df_pivot[('F1', \"Noisy\")]) / df_pivot[('F1', 'Clean')]\n",
    "\n",
    "print(\"\\n\\n Robustness Performance Comparison\")\n",
    "print(df_pivot.round(4))\n"
   ]
  },
  {
   "cell_type": "code",
   "execution_count": 8,
   "id": "eff33cc8",
   "metadata": {},
   "outputs": [
    {
     "name": "stdout",
     "output_type": "stream",
     "text": [
      "MultiIndex([(     'Model',      ''),\n",
      "            (     'AUPRC', 'Clean'),\n",
      "            (     'AUPRC', 'Noisy'),\n",
      "            (        'F1', 'Clean'),\n",
      "            (        'F1', 'Noisy'),\n",
      "            ('AUPRC_Drop',      ''),\n",
      "            (   'F1_Drop',      '')],\n",
      "           names=[None, 'Test Set'])\n",
      "                Model     AUPRC                  F1           AUPRC_Drop  \\\n",
      "Test Set                  Clean     Noisy     Clean     Noisy              \n",
      "0          Imbalanced  0.751116  0.751486  0.814562  0.815022  -0.000493   \n",
      "1         ModelDriven  0.680857  0.672775  0.716453  0.707373   0.011871   \n",
      "2               SMOTE  0.930105  0.921836  0.860215  0.856084   0.008891   \n",
      "\n",
      "           F1_Drop  \n",
      "Test Set            \n",
      "0        -0.000565  \n",
      "1         0.012673  \n",
      "2         0.004802  \n"
     ]
    }
   ],
   "source": [
    "print(df_pivot.columns)\n",
    "print(df_pivot.head())\n"
   ]
  },
  {
   "cell_type": "code",
   "execution_count": null,
   "id": "8913b9ae",
   "metadata": {},
   "outputs": [
    {
     "data": {
      "image/png": "[encoded data removed]",
      "text/plain": [
       "<Figure size 1200x700 with 1 Axes>"
      ]
     },
     "metadata": {},
     "output_type": "display_data"
    }
   ],
   "source": [
    "# Flatten MultiIndex columns\n",
    "df_pivot.columns = [\n",
    "    f\"{col[0]}_{col[1]}\" if col[1] else col[0] \n",
    "    for col in df_pivot.columns\n",
    "]\n",
    "\n",
    "# Melt for plotting\n",
    "df_plot = df_pivot.melt(\n",
    "    id_vars='Model',\n",
    "    value_vars=['AUPRC_Drop', 'F1_Drop'],\n",
    "    var_name='Metric',\n",
    "    value_name='Performance Drop'\n",
    ")\n",
    "\n",
    "# Plot\n",
    "plt.figure(figsize=(12, 7))\n",
    "sns.barplot(x='Model', y='Performance Drop', hue='Metric', data=df_plot, palette='viridis')\n",
    "plt.title('Model Robustness: Performance Drop on Noisy Data', fontsize=16, fontweight='bold')\n",
    "plt.ylabel('Performance Drop (%)')\n",
    "plt.xlabel('Model Type')\n",
    "plt.gca().yaxis.set_major_formatter(plt.FuncFormatter('{:.0%}'.format))\n",
    "plt.show()\n",
    "\n"
   ]
  },
  {
   "cell_type": "code",
   "execution_count": 16,
   "id": "6563439e",
   "metadata": {},
   "outputs": [
    {
     "name": "stdout",
     "output_type": "stream",
     "text": [
      "H2O session _sid_bd3c closed.\n"
     ]
    }
   ],
   "source": [
    "h2o.cluster().shutdown()\n"
   ]
  },
  {
   "cell_type": "code",
   "execution_count": null,
   "id": "1f28c4ec",
   "metadata": {},
   "outputs": [],
   "source": []
  }
 ],
 "metadata": {
  "kernelspec": {
   "display_name": ".venv",
   "language": "python",
   "name": "python3"
  },
  "language_info": {
   "codemirror_mode": {
    "name": "ipython",
    "version": 3
   },
   "file_extension": ".py",
   "mimetype": "text/x-python",
   "name": "python",
   "nbconvert_exporter": "python",
   "pygments_lexer": "ipython3",
   "version": "3.13.7"
  }
 },
 "nbformat": 4,
 "nbformat_minor": 5
}
