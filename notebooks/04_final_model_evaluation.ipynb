{
 "cells": [
  {
   "cell_type": "code",
   "execution_count": 1,
   "id": "2aa30146",
   "metadata": {},
   "outputs": [],
   "source": [
    "import os\n",
    "import time\n",
    "import pandas as pd\n",
    "import h2o \n",
    "from h2o.automl import H2OAutoML\n",
    "import matplotlib.pyplot as plt"
   ]
  },
  {
   "cell_type": "code",
   "execution_count": 2,
   "id": "a8ed124b",
   "metadata": {},
   "outputs": [],
   "source": [
    "RANDOM_STATE = 42\n",
    "TRAIN_TIME_SECS = 600\n",
    "MAX_MODELS = 20\n",
    "N_THREADS = -1\n",
    "\n",
    "MODEL_DRIVEN_SYNTHETIC_PATH = \"../data/02_processed/model_driven_synthetic.csv\"\n",
    "IMBALANCED_DATA_PATH = \"../data/01_raw/original_imbalanced.csv\""
   ]
  },
  {
   "cell_type": "markdown",
   "id": "bbe2545e",
   "metadata": {},
   "source": [
    "# --- Previous Results (for comparison) ---\n"
   ]
  },
  {
   "cell_type": "code",
   "execution_count": 3,
   "id": "84df77c4",
   "metadata": {},
   "outputs": [],
   "source": [
    "results = {\n",
    "    'Balanced': {'auc': 0.9720, 'auprc': 0.9630, 'f1': 0.9581, 'recall': 1.0, 'precision': 0.9740, 'accuracy': 0.9575},\n",
    "    'Imbalanced': {'auc': 0.9692, 'auprc': 0.7405, 'f1': 0.8049, 'recall': 1.0, 'precision': 1.000, 'accuracy': 0.9664},\n",
    "    'SMOTE': {'auc': 0.9706, 'auprc': 0.7344, 'f1': 0.8030, 'recall': 1.0, 'precision': 1.000, 'accuracy': 0.9657}\n",
    "}"
   ]
  },
  {
   "cell_type": "code",
   "execution_count": 4,
   "id": "1d1b9d5a",
   "metadata": {},
   "outputs": [
    {
     "name": "stdout",
     "output_type": "stream",
     "text": [
      "Checking whether there is an H2O instance running at http://localhost:54321..... not found.\n",
      "Attempting to start a local H2O server...\n",
      "; OpenJDK 64-Bit Server VM Temurin-17.0.16+8 (build 17.0.16+8, mixed mode, sharing)\n",
      "  Starting server from C:\\Project\\Synthetic Intelligence\\.venv\\Lib\\site-packages\\h2o\\backend\\bin\\h2o.jar\n",
      "  Ice root: C:\\Users\\bharg\\AppData\\Local\\Temp\\tmpbiu838g9\n",
      "  JVM stdout: C:\\Users\\bharg\\AppData\\Local\\Temp\\tmpbiu838g9\\h2o_bharg_started_from_python.out\n",
      "  JVM stderr: C:\\Users\\bharg\\AppData\\Local\\Temp\\tmpbiu838g9\\h2o_bharg_started_from_python.err\n",
      "  Server is running at http://127.0.0.1:54321\n",
      "Connecting to H2O server at http://127.0.0.1:54321 ... successful.\n",
      "Warning: Your H2O cluster version is (5 months and 6 days) old.  There may be a newer version available.\n",
      "Please download and install the latest version from: https://h2o-release.s3.amazonaws.com/h2o/latest_stable.html\n"
     ]
    },
    {
     "data": {
      "text/html": [
       "\n",
       "<style>\n",
       "\n",
       "#h2o-table-1.h2o-container {\n",
       "  overflow-x: auto;\n",
       "}\n",
       "#h2o-table-1 .h2o-table {\n",
       "  /* width: 100%; */\n",
       "  margin-top: 1em;\n",
       "  margin-bottom: 1em;\n",
       "}\n",
       "#h2o-table-1 .h2o-table caption {\n",
       "  white-space: nowrap;\n",
       "  caption-side: top;\n",
       "  text-align: left;\n",
       "  /* margin-left: 1em; */\n",
       "  margin: 0;\n",
       "  font-size: larger;\n",
       "}\n",
       "#h2o-table-1 .h2o-table thead {\n",
       "  white-space: nowrap; \n",
       "  position: sticky;\n",
       "  top: 0;\n",
       "  box-shadow: 0 -1px inset;\n",
       "}\n",
       "#h2o-table-1 .h2o-table tbody {\n",
       "  overflow: auto;\n",
       "}\n",
       "#h2o-table-1 .h2o-table th,\n",
       "#h2o-table-1 .h2o-table td {\n",
       "  text-align: right;\n",
       "  /* border: 1px solid; */\n",
       "}\n",
       "#h2o-table-1 .h2o-table tr:nth-child(even) {\n",
       "  /* background: #F5F5F5 */\n",
       "}\n",
       "\n",
       "</style>      \n",
       "<div id=\"h2o-table-1\" class=\"h2o-container\">\n",
       "  <table class=\"h2o-table\">\n",
       "    <caption></caption>\n",
       "    <thead></thead>\n",
       "    <tbody><tr><td>H2O_cluster_uptime:</td>\n",
       "<td>01 secs</td></tr>\n",
       "<tr><td>H2O_cluster_timezone:</td>\n",
       "<td>Europe/London</td></tr>\n",
       "<tr><td>H2O_data_parsing_timezone:</td>\n",
       "<td>UTC</td></tr>\n",
       "<tr><td>H2O_cluster_version:</td>\n",
       "<td>3.46.0.7</td></tr>\n",
       "<tr><td>H2O_cluster_version_age:</td>\n",
       "<td>5 months and 6 days</td></tr>\n",
       "<tr><td>H2O_cluster_name:</td>\n",
       "<td>H2O_from_python_bharg_rf9c2r</td></tr>\n",
       "<tr><td>H2O_cluster_total_nodes:</td>\n",
       "<td>1</td></tr>\n",
       "<tr><td>H2O_cluster_free_memory:</td>\n",
       "<td>10 Gb</td></tr>\n",
       "<tr><td>H2O_cluster_total_cores:</td>\n",
       "<td>16</td></tr>\n",
       "<tr><td>H2O_cluster_allowed_cores:</td>\n",
       "<td>16</td></tr>\n",
       "<tr><td>H2O_cluster_status:</td>\n",
       "<td>locked, healthy</td></tr>\n",
       "<tr><td>H2O_connection_url:</td>\n",
       "<td>http://127.0.0.1:54321</td></tr>\n",
       "<tr><td>H2O_connection_proxy:</td>\n",
       "<td>{\"http\": null, \"https\": null}</td></tr>\n",
       "<tr><td>H2O_internal_security:</td>\n",
       "<td>False</td></tr>\n",
       "<tr><td>Python_version:</td>\n",
       "<td>3.13.7 final</td></tr></tbody>\n",
       "  </table>\n",
       "</div>\n"
      ],
      "text/plain": [
       "--------------------------  -----------------------------\n",
       "H2O_cluster_uptime:         01 secs\n",
       "H2O_cluster_timezone:       Europe/London\n",
       "H2O_data_parsing_timezone:  UTC\n",
       "H2O_cluster_version:        3.46.0.7\n",
       "H2O_cluster_version_age:    5 months and 6 days\n",
       "H2O_cluster_name:           H2O_from_python_bharg_rf9c2r\n",
       "H2O_cluster_total_nodes:    1\n",
       "H2O_cluster_free_memory:    10 Gb\n",
       "H2O_cluster_total_cores:    16\n",
       "H2O_cluster_allowed_cores:  16\n",
       "H2O_cluster_status:         locked, healthy\n",
       "H2O_connection_url:         http://127.0.0.1:54321\n",
       "H2O_connection_proxy:       {\"http\": null, \"https\": null}\n",
       "H2O_internal_security:      False\n",
       "Python_version:             3.13.7 final\n",
       "--------------------------  -----------------------------"
      ]
     },
     "metadata": {},
     "output_type": "display_data"
    },
    {
     "name": "stdout",
     "output_type": "stream",
     "text": [
      "Loading model driven synthetic training data...\n",
      "Parse progress: |████████████████████████████████████████████████████████████████| (done) 100%\n"
     ]
    }
   ],
   "source": [
    "h2o.init(nthreads=N_THREADS, max_mem_size=\"10g\")\n",
    "\n",
    "# Load data\n",
    "print(\"Loading model driven synthetic training data...\")\n",
    "df_train_md = pd.read_csv(MODEL_DRIVEN_SYNTHETIC_PATH)\n",
    "hf_train_md = h2o.H2OFrame(df_train_md)\n",
    "response = \"target\"\n",
    "predictors = [c for c in hf_train_md.columns if c != response]\n",
    "hf_train_md[response] = hf_train_md[response].asfactor()"
   ]
  },
  {
   "cell_type": "code",
   "execution_count": 5,
   "id": "66f2ab03",
   "metadata": {},
   "outputs": [
    {
     "name": "stdout",
     "output_type": "stream",
     "text": [
      "Loading original imbalanced data to extract the consistent test set...\n"
     ]
    },
    {
     "name": "stdout",
     "output_type": "stream",
     "text": [
      "Parse progress: |████████████████████████████████████████████████████████████████| (done) 100%\n",
      "Training data shape: (294727, 41)\n",
      "Test data shape: (10500, 41)\n"
     ]
    }
   ],
   "source": [
    "print(\"Loading original imbalanced data to extract the consistent test set...\")\n",
    "df_imbalanced = pd.read_csv(IMBALANCED_DATA_PATH)\n",
    "hf_imbalanced = h2o.H2OFrame(df_imbalanced)\n",
    "hf_imbalanced[response] = hf_imbalanced[response].asfactor()\n",
    "_, _, test_hf = hf_imbalanced.split_frame(ratios=[0.7, 0.15], seed=RANDOM_STATE)\n",
    "\n",
    "print(f\"Training data shape: {hf_train_md.shape}\")\n",
    "print(f\"Test data shape: {test_hf.shape}\")"
   ]
  },
  {
   "cell_type": "code",
   "execution_count": 6,
   "id": "919ce36f",
   "metadata": {},
   "outputs": [
    {
     "name": "stdout",
     "output_type": "stream",
     "text": [
      "Training AutoML on the model driven synthetic dataset...\n",
      "AutoML progress: |\n",
      "01:03:36.682: AutoML: XGBoost is not available; skipping it.\n",
      "\n",
      "███████████████████████████████████████████████████████████████| (done) 100%\n",
      "\n",
      " Evaluating Best Model on Original Imbalanced Test set\n",
      "model_id                                       aucpr       auc    logloss    mean_per_class_error       rmse         mse\n",
      "GBM_1_AutoML_1_20250903_10336               0.999261  0.997266  0.0233734               0.0117488  0.069143   0.00478075\n",
      "GBM_4_AutoML_1_20250903_10336               0.999161  0.996955  0.0245947               0.012138   0.0715205  0.00511518\n",
      "GBM_3_AutoML_1_20250903_10336               0.999042  0.996687  0.0229774               0.0112645  0.0681919  0.00465014\n",
      "GBM_grid_1_AutoML_1_20250903_10336_model_2  0.999012  0.99648   0.0267032               0.0137132  0.0762236  0.00581003\n",
      "DRF_1_AutoML_1_20250903_10336               0.998954  0.996432  0.0615342               0.0191069  0.112219   0.0125931\n",
      "GBM_2_AutoML_1_20250903_10336               0.998891  0.996336  0.0224338               0.0110621  0.066424   0.00441215\n",
      "XRT_1_AutoML_1_20250903_10336               0.998879  0.996286  0.0609167               0.0189563  0.111117   0.0123469\n",
      "GBM_5_AutoML_1_20250903_10336               0.99824   0.994409  0.0303915               0.0137187  0.0752368  0.00566058\n",
      "GBM_grid_1_AutoML_1_20250903_10336_model_1  0.998001  0.993568  0.0412888               0.0198115  0.0907624  0.00823782\n",
      "DeepLearning_1_AutoML_1_20250903_10336      0.996663  0.990739  0.0346806               0.0182291  0.0754653  0.00569502\n",
      "GLM_1_AutoML_1_20250903_10336               0.970853  0.890257  0.252177                0.25841    0.266295   0.0709131\n",
      "[11 rows x 7 columns]\n",
      "\n",
      "ModelMetricsBinomial: gbm\n",
      "** Reported on test data. **\n",
      "\n",
      "MSE: 0.035239939279906346\n",
      "RMSE: 0.18772303875631874\n",
      "LogLoss: 0.16382961098725887\n",
      "Mean Per-Class Error: 0.10786408968461805\n",
      "AUC: 0.9641998980914069\n",
      "AUCPR: 0.7180962879348766\n",
      "Gini: 0.9283997961828139\n",
      "\n",
      "Confusion Matrix (Act/Pred) for max f1 @ threshold = 0.7194337264115318\n",
      "       0     1    Error    Rate\n",
      "-----  ----  ---  -------  ---------------\n",
      "0      9443  240  0.0248   (240.0/9683.0)\n",
      "1      156   661  0.1909   (156.0/817.0)\n",
      "Total  9599  901  0.0377   (396.0/10500.0)\n",
      "\n",
      "Maximum Metrics: Maximum metrics at their respective thresholds\n",
      "metric                       threshold    value     idx\n",
      "---------------------------  -----------  --------  -----\n",
      "max f1                       0.719434     0.769499  111\n",
      "max f2                       0.303438     0.823289  217\n",
      "max f0point5                 0.860827     0.750555  71\n",
      "max accuracy                 0.719434     0.962286  111\n",
      "max precision                0.996839     0.787791  6\n",
      "max recall                   0.000105363  1         399\n",
      "max specificity              0.999715     0.998038  0\n",
      "max absolute_mcc             0.719434     0.750079  111\n",
      "max min_per_class_accuracy   0.0710329    0.925953  308\n",
      "max mean_per_class_accuracy  0.126765     0.928029  281\n",
      "max tns                      0.999715     9664      0\n",
      "max fns                      0.999715     761       0\n",
      "max fps                      0.000105363  9683      399\n",
      "max tps                      0.000105363  817       399\n",
      "max tnr                      0.999715     0.998038  0\n",
      "max fnr                      0.999715     0.931457  0\n",
      "max fpr                      0.000105363  1         399\n",
      "max tpr                      0.000105363  1         399\n",
      "\n",
      "Gains/Lift Table: Avg response rate:  7.78 %, avg score: 10.19 %\n",
      "group    cumulative_data_fraction    lower_threshold    lift       cumulative_lift    response_rate    score        cumulative_response_rate    cumulative_score    capture_rate    cumulative_capture_rate    gain      cumulative_gain    kolmogorov_smirnov\n",
      "-------  --------------------------  -----------------  ---------  -----------------  ---------------  -----------  --------------------------  ------------------  --------------  -------------------------  --------  -----------------  --------------------\n",
      "1        0.01                        0.999267           10.0367    10.0367            0.780952         0.999624     0.780952                    0.999624            0.100367        0.100367                   903.672   903.672            0.0979919\n",
      "2        0.02                        0.998498           9.42472    9.73072            0.733333         0.998927     0.757143                    0.999276            0.0942472       0.194614                   842.472   873.072            0.189347\n",
      "3        0.03                        0.997028           10.8935    10.1183            0.847619         0.997838     0.787302                    0.998796            0.108935        0.30355                    989.351   911.832            0.29663\n",
      "4        0.04                        0.994145           9.79192    10.0367            0.761905         0.99572      0.780952                    0.998027            0.0979192       0.401469                   879.192   903.672            0.391968\n",
      "5        0.05                        0.987695           10.0367    10.0367            0.780952         0.99127      0.780952                    0.996676            0.100367        0.501836                   903.672   903.672            0.48996\n",
      "6        0.1                         0.45937            7.2705     8.65361            0.565714         0.820099     0.673333                    0.908387            0.363525        0.865361                   627.05    765.361            0.829938\n",
      "7        0.15                        0.0520804          1.39535    6.23419            0.108571         0.168034     0.485079                    0.661603            0.0697674       0.935129                   39.5349   523.419            0.851373\n",
      "8        0.2                         0.0146581          0.342717   4.76132            0.0266667        0.0278385    0.370476                    0.503162            0.0171359       0.952264                   -65.7283  376.132            0.815736\n",
      "9        0.3                         0.00359307         0.208078   3.24357            0.0161905        0.00747635   0.252381                    0.337933            0.0208078       0.973072                   -79.1922  224.357            0.729862\n",
      "10       0.4                         0.00147245         0.0367197  2.44186            0.00285714       0.00230288   0.19                        0.254026            0.00367197      0.976744                   -96.328   144.186            0.625407\n",
      "11       0.5                         0.000786138        0.0367197  1.96083            0.00285714       0.00108008   0.152571                    0.203437            0.00367197      0.980416                   -96.328   96.0832            0.520951\n",
      "12       0.6                         0.000462913        0.0734394  1.64627            0.00571429       0.000609918  0.128095                    0.169632            0.00734394      0.98776                    -92.6561  64.6267            0.420477\n",
      "13       0.7                         0.000290385        0.0244798  1.41458            0.00190476       0.000368293  0.110068                    0.145452            0.00244798      0.990208                   -97.552   41.4583            0.314694\n",
      "14       0.8                         0.000182874        0.0244798  1.24082            0.00190476       0.000232459  0.0965476                   0.127299            0.00244798      0.992656                   -97.552   24.082             0.208911\n",
      "15       0.9                         0.000110346        0.0244798  1.10567            0.00190476       0.00014518   0.0860317                   0.113171            0.00244798      0.995104                   -97.552   10.5671            0.103128\n",
      "16       1                           1.60701e-05        0.0489596  1                  0.00380952       7.60191e-05  0.0778095                   0.101861            0.00489596      1                          -95.104   0                  0\n"
     ]
    },
    {
     "name": "stderr",
     "output_type": "stream",
     "text": [
      "C:\\Users\\bharg\\AppData\\Local\\Temp\\ipykernel_3636\\1047632275.py:22: H2ODeprecationWarning: ``MetricsBase.pr_auc`` is deprecated, please use ``MetricsBase.aucpr`` instead.\n",
      "  'auprc': performance_md.pr_auc(),\n"
     ]
    }
   ],
   "source": [
    "print(\"Training AutoML on the model driven synthetic dataset...\")\n",
    "aml_md = H2OAutoML(\n",
    "    max_runtime_secs=TRAIN_TIME_SECS,\n",
    "    max_models=MAX_MODELS,\n",
    "    seed=RANDOM_STATE,\n",
    "    project_name=f\"model_driven_eval_{int(time.time())}\",\n",
    "    sort_metric=\"AUCPR\"\n",
    ")\n",
    "\n",
    "aml_md.train(x=predictors, y=response, training_frame=hf_train_md)\n",
    "\n",
    "print(\"\\n Evaluating Best Model on Original Imbalanced Test set\")\n",
    "lb_md = aml_md.leaderboard\n",
    "print(lb_md.head(rows=lb_md.nrows))\n",
    "\n",
    "performance_md = aml_md.leader.model_performance(test_hf)\n",
    "print(performance_md)\n",
    "\n",
    "# Store results\n",
    "results['ModelDriven'] = {\n",
    "    'auc': performance_md.auc(), \n",
    "    'auprc': performance_md.pr_auc(), \n",
    "    'f1': performance_md.F1()[0][1],\n",
    "    'recall': performance_md.recall()[0][1], \n",
    "    'precision': performance_md.precision()[0][1],\n",
    "    'accuracy': performance_md.accuracy()[0][1]\n",
    "}\n"
   ]
  },
  {
   "cell_type": "code",
   "execution_count": 7,
   "id": "db26e30c",
   "metadata": {},
   "outputs": [
    {
     "name": "stdout",
     "output_type": "stream",
     "text": [
      "\n",
      "\n",
      " FINAL PERFORMANCE COMPARISON\n",
      "                auc   auprc      f1  recall  precision  accuracy\n",
      "Balanced     0.9720  0.9630  0.9581     1.0     0.9740    0.9575\n",
      "Imbalanced   0.9692  0.7405  0.8049     1.0     1.0000    0.9664\n",
      "SMOTE        0.9706  0.7344  0.8030     1.0     1.0000    0.9657\n",
      "ModelDriven  0.9642  0.7181  0.7695     1.0     0.7878    0.9623\n"
     ]
    },
    {
     "data": {
      "image/png": "[encoded data removed]",
      "text/plain": [
       "<Figure size 1200x700 with 1 Axes>"
      ]
     },
     "metadata": {},
     "output_type": "display_data"
    },
    {
     "name": "stdout",
     "output_type": "stream",
     "text": [
      "H2O session _sid_9939 closed.\n"
     ]
    }
   ],
   "source": [
    "# Final comparison\n",
    "df_results = pd.DataFrame(results).T.round(4)\n",
    "\n",
    "print(\"\\n\\n FINAL PERFORMANCE COMPARISON\")\n",
    "print(df_results)\n",
    "\n",
    "df_results[['auprc', 'f1', 'recall', 'precision']].plot(\n",
    "    kind=\"bar\",\n",
    "    figsize=(12, 7),\n",
    "    grid=True,\n",
    "    title=\"Final Model Comparison: AUPCR, F1, Recall & Precision\"\n",
    ")\n",
    "plt.ylabel(\"Score\")\n",
    "plt.xticks(rotation=0)\n",
    "plt.legend(loc=\"lower right\")\n",
    "plt.show()\n",
    "\n",
    "h2o.cluster().shutdown()"
   ]
  },
  {
   "cell_type": "code",
   "execution_count": null,
   "id": "cbe46e76",
   "metadata": {},
   "outputs": [],
   "source": []
  }
 ],
 "metadata": {
  "kernelspec": {
   "display_name": ".venv",
   "language": "python",
   "name": "python3"
  },
  "language_info": {
   "codemirror_mode": {
    "name": "ipython",
    "version": 3
   },
   "file_extension": ".py",
   "mimetype": "text/x-python",
   "name": "python",
   "nbconvert_exporter": "python",
   "pygments_lexer": "ipython3",
   "version": "3.13.7"
  }
 },
 "nbformat": 4,
 "nbformat_minor": 5
}
